{
 "cells": [
  {
   "cell_type": "markdown",
   "metadata": {
    "slideshow": {
     "slide_type": "slide"
    }
   },
   "source": [
    "# 예측\n",
    "\n",
    "출처: https://github.com/jaron/deep-listening/blob/master/2-us8k-ffn-train-predict.ipynb\n",
    "\n",
    "\n",
    "Workbook 2 - Training a Feed-Forward Neural Network using UrbanSound8K audio data\n",
    "\n",
    "> 통합 문서 2 - UrbanSound8K 오디오 데이터를 사용하여 피드 포워드 신경망 훈련\n",
    "\n",
    "This loads the features we extracted using librosa (see workbook 1), and uses them to train a Feed-Forward Network, a simple deep neural net with a few hidden layers, and then predict the class of a set of previously unheard audio files. You will need librosa, keras and tensorflow installed to run this code, and the latest version of scikit-learn (currently 0.18.1).\n",
    "\n",
    "> 이렇게 하면 librosa (통합 문서 1 참조)를 사용하여 추출한 기능을 로드하고 숨겨진 레이어가 있는 간단한 신경망인 Feed-Forward 네트워크를 학습한 다음 이전에 들리지 않은 오디오 파일 세트의 클래스를 예측할 수 있습니다. 이 코드를 실행하기 위해 설치된 librosa, keras 및 tensorflow와 최신 scikit-learn 버전이 필요합니다.\n",
    "\n",
    "## 패키지 설치\n",
    "```shell\n",
    "pip install keras tensorflow sklearn h5py\n",
    "```\n"
   ]
  },
  {
   "cell_type": "code",
   "execution_count": 1,
   "metadata": {
    "collapsed": true,
    "slideshow": {
     "slide_type": "slide"
    }
   },
   "outputs": [],
   "source": [
    "import glob\n",
    "import os\n",
    "import numpy as np\n",
    "import matplotlib.pyplot as plt\n",
    "%matplotlib inline\n",
    "plt.style.use('ggplot')"
   ]
  },
  {
   "cell_type": "markdown",
   "metadata": {
    "slideshow": {
     "slide_type": "slide"
    }
   },
   "source": [
    "This code below loads previously computed numpy features for each of the 10 folds, we'll use the first 8 for training, and keep one back for validation and one for testing.\n",
    "\n",
    "> 이 코드는 이전에 계산된 10개의 폴드에 대해서 numpy 피쳐를 로드합니다. \n",
    "> 처음 8개는 트레이닝에 사용하며 1개는 유효성 확인을 위해서 마지막 1개는 테스트를 위해서 유지합니다. \n"
   ]
  },
  {
   "cell_type": "code",
   "execution_count": 2,
   "metadata": {
    "slideshow": {
     "slide_type": "subslide"
    }
   },
   "outputs": [
    {
     "name": "stdout",
     "output_type": "stream",
     "text": [
      "Adding fold1\n",
      "New Features:  (30, 193)\n",
      "Adding fold2\n",
      "New Features:  (30, 193)\n",
      "Adding fold3\n",
      "New Features:  (30, 193)\n",
      "Adding fold4\n",
      "New Features:  (30, 193)\n",
      "Adding fold5\n",
      "New Features:  (30, 193)\n",
      "Adding fold6\n",
      "New Features:  (30, 193)\n",
      "Adding fold7\n",
      "New Features:  (30, 193)\n",
      "Adding fold8\n",
      "New Features:  (30, 193)\n"
     ]
    }
   ],
   "source": [
    "data_dir = 'data/us8k-np-ffn'\n",
    "\n",
    "def add_folds():\n",
    "    subsequent_fold = False\n",
    "    for k in range(1, 9):\n",
    "        fold_name = 'fold' + str(k)\n",
    "        print('Adding ' + fold_name)\n",
    "        feature_file = os.path.join(data_dir, fold_name + '_x.npy')\n",
    "        labels_file = os.path.join(data_dir, fold_name + '_y.npy')\n",
    "        loaded_features = np.load(feature_file)\n",
    "        loaded_labels = np.load(labels_file)\n",
    "        print(\"New Features: \", loaded_features.shape)\n",
    "        \n",
    "        if subsequent_fold:\n",
    "            features = np.concatenate((features, loaded_features))\n",
    "            labels = np.concatenate((labels, loaded_labels))\n",
    "        else:\n",
    "            features = loaded_features\n",
    "            labels = loaded_labels\n",
    "            subsequent_fold = True\n",
    "        \n",
    "    return features, labels    \n",
    "    \n",
    "train_x, train_y = add_folds()"
   ]
  },
  {
   "cell_type": "code",
   "execution_count": 3,
   "metadata": {},
   "outputs": [
    {
     "name": "stdout",
     "output_type": "stream",
     "text": [
      "Training Set Features: (240, 193) Labels: (240, 10)\n",
      "Validation Set Features: (30, 193) Labels: (30, 10)\n",
      "Test Set Features: (30, 193) Labels: (30, 10)\n"
     ]
    }
   ],
   "source": [
    "valid_fold_name = 'fold9'\n",
    "feature_file = os.path.join(data_dir, valid_fold_name + '_x.npy')\n",
    "labels_file = os.path.join(data_dir, valid_fold_name + '_y.npy')\n",
    "valid_x = np.load(feature_file)\n",
    "valid_y = np.load(labels_file)\n",
    "\n",
    "# and a fold for testing\n",
    "test_fold_name = 'fold10'\n",
    "feature_file = os.path.join(data_dir, test_fold_name + '_x.npy')\n",
    "labels_file = os.path.join(data_dir, test_fold_name + '_y.npy')\n",
    "test_x = np.load(feature_file)\n",
    "test_y = np.load(labels_file)\n",
    "\n",
    "print(\"Training Set Features: {} Labels: {}\".format(str(train_x.shape), str(train_y.shape)))\n",
    "print(\"Validation Set Features: {} Labels: {}\".format(str(valid_x.shape), str(valid_y.shape)))\n",
    "print(\"Test Set Features: {} Labels: {}\".format(str(test_x.shape), str(test_y.shape)))"
   ]
  },
  {
   "cell_type": "code",
   "execution_count": 4,
   "metadata": {},
   "outputs": [
    {
     "name": "stderr",
     "output_type": "stream",
     "text": [
      "e:\\4.sdk\\miniconda3_64\\lib\\site-packages\\h5py\\__init__.py:36: FutureWarning: Conversion of the second argument of issubdtype from `float` to `np.floating` is deprecated. In future, it will be treated as `np.float64 == np.dtype(float).type`.\n",
      "  from ._conv import register_converters as _register_converters\n",
      "Using TensorFlow backend.\n"
     ]
    }
   ],
   "source": [
    "import tensorflow as tf\n",
    "from sklearn.metrics import precision_recall_fscore_support, roc_auc_score\n",
    "from keras.models import Sequential\n",
    "from keras.layers import Dense, Dropout\n",
    "from keras.optimizers import Adam\n",
    "from keras.callbacks import EarlyStopping"
   ]
  },
  {
   "cell_type": "code",
   "execution_count": 5,
   "metadata": {},
   "outputs": [
    {
     "name": "stdout",
     "output_type": "stream",
     "text": [
      "Features: 193 Classes: 10\n"
     ]
    }
   ],
   "source": [
    "def assure_path_exists(path):\n",
    "    mydir = os.path.join(os.getcwd(), path)\n",
    "    if not os.path.exists(mydir):\n",
    "        os.makedirs(mydir)\n",
    "\n",
    "# neural network dimensions\n",
    "n_dim = train_x.shape[1]\n",
    "n_classes = train_y.shape[1]\n",
    "n_hidden_units_1 = n_dim\n",
    "n_hidden_units_2 = 400 # approx n_dim + 2\n",
    "n_hidden_units_3 = 200 # half of layer 2\n",
    "\n",
    "checkpoint_dir = \"model\"\n",
    "assure_path_exists(checkpoint_dir)\n",
    "\n",
    "print(\"Features: {} Classes: {}\".format(n_dim, n_classes))"
   ]
  },
  {
   "cell_type": "code",
   "execution_count": 6,
   "metadata": {},
   "outputs": [
    {
     "data": {
      "text/plain": [
       "(240, 193)"
      ]
     },
     "execution_count": 6,
     "metadata": {},
     "output_type": "execute_result"
    }
   ],
   "source": [
    "train_x.shape"
   ]
  },
  {
   "cell_type": "markdown",
   "metadata": {},
   "source": [
    "### 변경사항\n",
    "\n",
    "init_type → `kernel_initializer`\n",
    "\n",
    "> model.add(Dense(n_hidden_units_2, kernel_initializer=init_type, activation=activation_function))\n",
    "\n",
    "nb_epoch → `epochs`\n",
    "\n",
    "> history = model.fit(train_x, train_y, validation_data=(valid_x, valid_y), callbacks=[earlystop], epochs=30, batch_size=24)            "
   ]
  },
  {
   "cell_type": "code",
   "execution_count": 7,
   "metadata": {},
   "outputs": [
    {
     "name": "stdout",
     "output_type": "stream",
     "text": [
      "Train on 240 samples, validate on 30 samples\n",
      "Epoch 1/30\n",
      "240/240 [==============================] - 1s 4ms/step - loss: 10.8938 - acc: 0.1333 - val_loss: 10.5527 - val_acc: 0.2000\n",
      "Epoch 2/30\n",
      "240/240 [==============================] - 0s 173us/step - loss: 10.4448 - acc: 0.1083 - val_loss: 8.2974 - val_acc: 0.1000\n",
      "Epoch 3/30\n",
      "240/240 [==============================] - 0s 171us/step - loss: 8.7308 - acc: 0.1500 - val_loss: 6.3475 - val_acc: 0.2333\n",
      "Epoch 4/30\n",
      "240/240 [==============================] - 0s 171us/step - loss: 7.5804 - acc: 0.1708 - val_loss: 4.1478 - val_acc: 0.3000\n",
      "Epoch 5/30\n",
      "240/240 [==============================] - 0s 181us/step - loss: 5.5789 - acc: 0.1792 - val_loss: 3.2672 - val_acc: 0.3000\n",
      "Epoch 6/30\n",
      "240/240 [==============================] - 0s 190us/step - loss: 4.0536 - acc: 0.2167 - val_loss: 3.0622 - val_acc: 0.2333\n",
      "Epoch 7/30\n",
      "240/240 [==============================] - 0s 192us/step - loss: 3.4870 - acc: 0.2125 - val_loss: 2.7799 - val_acc: 0.2000\n",
      "Epoch 8/30\n",
      "240/240 [==============================] - 0s 169us/step - loss: 2.7168 - acc: 0.2708 - val_loss: 2.7588 - val_acc: 0.3333\n",
      "Epoch 9/30\n",
      "240/240 [==============================] - 0s 165us/step - loss: 2.4085 - acc: 0.3417 - val_loss: 2.7876 - val_acc: 0.3333\n",
      "Epoch 10/30\n",
      "240/240 [==============================] - 0s 173us/step - loss: 2.6636 - acc: 0.3083 - val_loss: 2.7848 - val_acc: 0.3000\n",
      "Epoch 11/30\n",
      "240/240 [==============================] - 0s 173us/step - loss: 2.3225 - acc: 0.3792 - val_loss: 2.7585 - val_acc: 0.3333\n",
      "Epoch 12/30\n",
      "240/240 [==============================] - 0s 154us/step - loss: 2.2785 - acc: 0.3375 - val_loss: 2.6871 - val_acc: 0.3333\n",
      "Epoch 13/30\n",
      "240/240 [==============================] - 0s 165us/step - loss: 2.2924 - acc: 0.3458 - val_loss: 2.7560 - val_acc: 0.2333\n",
      "Epoch 14/30\n",
      "240/240 [==============================] - 0s 165us/step - loss: 2.2338 - acc: 0.3708 - val_loss: 2.6300 - val_acc: 0.3667\n",
      "Epoch 15/30\n",
      "240/240 [==============================] - 0s 160us/step - loss: 1.9987 - acc: 0.3583 - val_loss: 2.6408 - val_acc: 0.3333\n",
      "Epoch 16/30\n",
      "240/240 [==============================] - 0s 160us/step - loss: 1.8666 - acc: 0.4167 - val_loss: 2.6590 - val_acc: 0.4000\n",
      "Epoch 17/30\n",
      "240/240 [==============================] - 0s 165us/step - loss: 1.9717 - acc: 0.4000 - val_loss: 2.7501 - val_acc: 0.3000\n",
      "Epoch 18/30\n",
      "240/240 [==============================] - 0s 156us/step - loss: 1.8676 - acc: 0.4292 - val_loss: 2.7488 - val_acc: 0.3333\n",
      "Epoch 19/30\n",
      "240/240 [==============================] - 0s 158us/step - loss: 1.7615 - acc: 0.4125 - val_loss: 2.7317 - val_acc: 0.3667\n",
      "Epoch 20/30\n",
      "240/240 [==============================] - 0s 177us/step - loss: 1.6628 - acc: 0.4458 - val_loss: 2.6691 - val_acc: 0.4000\n",
      "Epoch 21/30\n",
      "240/240 [==============================] - 0s 156us/step - loss: 1.6512 - acc: 0.4917 - val_loss: 2.7020 - val_acc: 0.3333\n",
      "Epoch 22/30\n",
      "240/240 [==============================] - 0s 158us/step - loss: 1.7072 - acc: 0.4583 - val_loss: 2.6871 - val_acc: 0.3333\n",
      "Epoch 23/30\n",
      "240/240 [==============================] - 0s 165us/step - loss: 1.7044 - acc: 0.4500 - val_loss: 2.6038 - val_acc: 0.4000\n",
      "Epoch 24/30\n",
      "240/240 [==============================] - 0s 167us/step - loss: 1.7693 - acc: 0.5083 - val_loss: 2.6669 - val_acc: 0.3333\n",
      "Epoch 25/30\n",
      "240/240 [==============================] - 0s 156us/step - loss: 1.6764 - acc: 0.4792 - val_loss: 2.5975 - val_acc: 0.3333\n",
      "Epoch 26/30\n",
      "240/240 [==============================] - 0s 165us/step - loss: 1.6332 - acc: 0.4667 - val_loss: 2.6755 - val_acc: 0.3333\n",
      "Epoch 27/30\n",
      "240/240 [==============================] - 0s 173us/step - loss: 1.5402 - acc: 0.4958 - val_loss: 2.6091 - val_acc: 0.3667\n",
      "Epoch 28/30\n",
      "240/240 [==============================] - 0s 165us/step - loss: 1.7157 - acc: 0.4792 - val_loss: 2.5995 - val_acc: 0.3667\n",
      "Epoch 29/30\n",
      "240/240 [==============================] - 0s 171us/step - loss: 1.6058 - acc: 0.4833 - val_loss: 2.6308 - val_acc: 0.3667\n",
      "Epoch 30/30\n",
      "240/240 [==============================] - 0s 179us/step - loss: 1.5360 - acc: 0.4958 - val_loss: 2.6128 - val_acc: 0.3667\n"
     ]
    }
   ],
   "source": [
    "tf.set_random_seed(0)\n",
    "np.random.seed(0)\n",
    "\n",
    "def create_model(activation_function=\"relu\", init_type=\"normal\", optimiser=\"Adamax\", dropout_rate=0.5):\n",
    "    model = Sequential()\n",
    "    # layer 1\n",
    "    model.add(Dense(n_hidden_units_1, input_dim=n_dim))\n",
    "    # layer 2\n",
    "    model.add(Dense(n_hidden_units_2, kernel_initializer=init_type, activation=activation_function))\n",
    "    model.add(Dropout(dropout_rate))\n",
    "    # layer 3\n",
    "    model.add(Dense(n_hidden_units_3, kernel_initializer=init_type, activation=activation_function))\n",
    "    model.add(Dropout(dropout_rate))\n",
    "    # output layer\n",
    "    model.add(Dense(n_classes, kernel_initializer=init_type, activation='softmax'))\n",
    "    \n",
    "    model.compile(loss='categorical_crossentropy', optimizer=optimiser, metrics=['accuracy'])\n",
    "    return model\n",
    "\n",
    "# a stopping function to stop trainning before we excessively overfit to the training set\n",
    "earlystop = EarlyStopping(monitor = 'val_loss', patience=10, verbose =1, mode='auto')\n",
    "\n",
    "model = create_model()\n",
    "\n",
    "history = model.fit(train_x, train_y, validation_data=(valid_x, valid_y), callbacks=[earlystop], epochs=30, batch_size=24)            "
   ]
  },
  {
   "cell_type": "markdown",
   "metadata": {},
   "source": [
    "## Measuring Accuracy"
   ]
  },
  {
   "cell_type": "code",
   "execution_count": 8,
   "metadata": {},
   "outputs": [
    {
     "name": "stdout",
     "output_type": "stream",
     "text": [
      "ROC:  0.79\n",
      "30/30 [==============================] - 0s 67us/step\n",
      "Accuracy =  0.43\n",
      "F-Score:  0.43\n"
     ]
    }
   ],
   "source": [
    "from sklearn import metrics\n",
    "from keras.utils import np_utils\n",
    "\n",
    "# obtain the prediction probabilities\n",
    "y_prob = model.predict_proba(test_x, verbose=0)\n",
    "# y_pred = np_utils.probas_to_classes(y_prob)\n",
    "y_pred = model.predict_classes(test_x)\n",
    "y_true = np.argmax(test_y, 1)\n",
    "\n",
    "roc = metrics.roc_auc_score(test_y, y_prob)\n",
    "print(\"ROC: \", round(roc, 2))\n",
    "\n",
    "# evaluate the model\n",
    "score, accuracy = model.evaluate(test_x, test_y, batch_size=32)\n",
    "print(\"Accuracy = {: .2f}\".format(accuracy))\n",
    "\n",
    "p, r, f, s = precision_recall_fscore_support(y_true, y_pred, average='micro')\n",
    "print('F-Score: ', round(f, 2))"
   ]
  },
  {
   "cell_type": "markdown",
   "metadata": {},
   "source": [
    "I used GridSearch (see section below) to investigate the best combinations of parameters, such as optimisers, dropout rates, hidden layers and activation functions. With 2 hidden layers the best accuracy I observed was an F-score of 0.59 (ROC = 0.89)\n",
    "\n",
    "With 3 hidden layers the best accuracy seen was an F-score of 0.645 (ROC=0.92), using the Adamax optimiser and a dropout rate of 0.5. There did not seem to be any benefit in using 4 hidden layers, the accuracy seemed equivalent to that achieved with just 2 hidden layers. (As the gradient computation is stochastic, you might get slightly different values when you run this code).\n",
    "\n",
    "ROC curves are typically used in binary classification, so to apply this measure to multi-class classification, it's first necessary to convert the predictions into boolean values, each representing positive or negative predictions for each possible class. This enables us to draw one ROC curve per class, or draw a composite ROC curve by using micro-averaging."
   ]
  },
  {
   "cell_type": "code",
   "execution_count": 9,
   "metadata": {},
   "outputs": [
    {
     "data": {
      "image/png": "[encoded data removed]",
      "text/plain": [
       "<matplotlib.figure.Figure at 0x16ec2453748>"
      ]
     },
     "metadata": {},
     "output_type": "display_data"
    }
   ],
   "source": [
    "from sklearn.metrics import roc_curve, auc\n",
    "fpr = dict()\n",
    "tpr = dict()\n",
    "roc_auc = dict()\n",
    "\n",
    "for i in range(n_classes):\n",
    "    fpr[i], tpr[i], _ = roc_curve(test_y[:, i], y_prob[:, i])\n",
    "    roc_auc[i] = auc(fpr[i], tpr[i])\n",
    "    \n",
    "# Compute micro-average ROC curve and ROC area\n",
    "fpr['micro'], tpr['micro'], _ = roc_curve(test_y.ravel(), y_prob.ravel())\n",
    "roc_auc['micro'] = auc(fpr['micro'], tpr['micro'])\n",
    "\n",
    "plt.figure()\n",
    "lw = 2\n",
    "plt.plot(fpr[2], tpr[2], color='darkorange', lw=lw, label='ROC curve (area= %0.2f)' % roc_auc[2])\n",
    "plt.plot([0,1], [0,1], color='navy', lw=lw, linestyle='--')\n",
    "plt.xlim([0.0, 1.0])\n",
    "plt.ylim([0.0, 1.05])\n",
    "plt.xlabel('False Positive Rate')\n",
    "plt.ylabel('True Positive Rate')\n",
    "plt.title('Receiver operating characteristic')\n",
    "plt.legend(loc='lower right')\n",
    "plt.show()"
   ]
  },
  {
   "cell_type": "code",
   "execution_count": 10,
   "metadata": {},
   "outputs": [
    {
     "name": "stdout",
     "output_type": "stream",
     "text": [
      "Confusion_matrix\n",
      "             aircon   horn  child    dog  drill engine    gun hammer  siren  music\n",
      "      aircon      2      0      0      0      0      0      0      2      0      0\n",
      "        horn      1      0      0      0      0      0      0      0      0      0\n",
      "       child      0      0      2      0      0      0      0      0      2      0\n",
      "         dog      0      0      0      2      1      0      0      0      0      0\n",
      "       drill      0      0      0      0      1      0      0      2      0      0\n",
      "      engine      0      0      0      0      0      1      2      0      0      0\n",
      "         gun      0      0      0      1      1      0      0      0      0      0\n",
      "      hammer      0      0      0      0      0      0      0      3      0      0\n",
      "       siren      0      0      0      1      0      0      0      0      2      0\n",
      "       music      2      0      0      0      0      0      0      2      0      0\n"
     ]
    }
   ],
   "source": [
    "from sklearn.metrics import confusion_matrix\n",
    "\n",
    "labels = ['aircon', 'horn', 'child', 'dog', 'drill', 'engine', 'gun', 'hammer', 'siren', 'music']\n",
    "print(\"Confusion_matrix\")\n",
    "cm = confusion_matrix(y_true, y_pred)\n",
    "\n",
    "def print_cm(cm, labels, hide_zeroes=False, hide_diagonal=False, hide_threshold=None):\n",
    "    \"\"\"pretty print for confusion matrixes\"\"\"\n",
    "    columnwidth = max([len(x) for x in labels] + [7]) # 5 is value length\n",
    "    empty_cell = \" \" * columnwidth\n",
    "    # Print header\n",
    "    print(\"    \", empty_cell, end=\"\")\n",
    "    for label in labels:\n",
    "        print(\"%{0}s\".format(columnwidth) % label, end=\"\")\n",
    "    print()\n",
    "    # Print rows\n",
    "    for i, label in enumerate(labels):\n",
    "        print(\"     %{0}s\".format(columnwidth) % label, end=\"\")\n",
    "        for j in range(len(labels)):\n",
    "            cell = \"%{0}s\".format(columnwidth) % cm[i, j]\n",
    "            if hide_zeroes:\n",
    "                cell = cell if float(cm[i, j]) != 0 else empty_cell\n",
    "            if hide_diagonal:\n",
    "                cell = cell if i != j else empty_cell\n",
    "            if hide_threshold:\n",
    "                cell = cell if cm[i, j] > hide_threshold else empty_cell\n",
    "            print(cell, end=\"\")\n",
    "        print()\n",
    "\n",
    "print_cm(cm, labels)"
   ]
  },
  {
   "cell_type": "markdown",
   "metadata": {},
   "source": [
    "### Refinement and Optimisation\n",
    "\n",
    "The performance of a deep neural network is highly dependent on many configurable hyper-parameters, values that govern how the model actually works, and which are not changed during the course of learning. Some of these parameters will have a greater influence than others. The classic machine learning solution to this challenge is GridSearch, to successively train separate instances of a model with distinct values of key parameters, and then compare the resulting accuracy scores to identify which combination of parameters has produced the best results.\n",
    "\n",
    "Scikit-Learn provides GridSearch functionality that can be adapted for use with a neural network implemented using Keras, as described here: http://machinelearningmastery.com/grid-search-hyperparameters-deep-learning-models-python-keras/.\n",
    "\n",
    "Because the training process is computationally intensive, and must be repeated for each combination of hyper-parameter values, optimisation can be a slow, time-consuming process. The code below shows how the 3-layer network was trained with different stochastic gradient optimisers (https://keras.io/optimizers/), and reveals which algorithms work best for this particular problem domain.\n",
    "\n"
   ]
  },
  {
   "cell_type": "code",
   "execution_count": 11,
   "metadata": {},
   "outputs": [
    {
     "name": "stdout",
     "output_type": "stream",
     "text": [
      "Running GridSearch...\n",
      "GridSearch complete\n",
      "Best: 0.291667 using {'optimiser': 'Nadam'}\n",
      "0.133333 (0.032808) with: {'optimiser': 'SGD'}\n",
      "0.220833 (0.048233) with: {'optimiser': 'RMSprop'}\n",
      "0.104167 (0.052374) with: {'optimiser': 'Adagrad'}\n",
      "0.187500 (0.030619) with: {'optimiser': 'Adadelta'}\n",
      "0.212500 (0.054006) with: {'optimiser': 'Adam'}\n",
      "0.170833 (0.021246) with: {'optimiser': 'Adamax'}\n",
      "0.291667 (0.079276) with: {'optimiser': 'Nadam'}\n"
     ]
    }
   ],
   "source": [
    "from keras.wrappers.scikit_learn import KerasClassifier\n",
    "from sklearn.model_selection import GridSearchCV\n",
    "from keras.constraints import maxnorm\n",
    "\n",
    "activations = ['relu', 'tanh', 'linear']\n",
    "batch_sizes = [10, 20, 30, 40, 50, 60]\n",
    "epochs = [10, 20, 30]\n",
    "dropout_rates = [0.0, 0.1, 0.2, 0.3, 0.4, 0.5, 0.6, 0.7, 0.8, 0.9]\n",
    "\n",
    "optimisers = ['SGD', 'RMSprop', 'Adagrad', 'Adadelta', 'Adam', 'Adamax', 'Nadam']\n",
    "\n",
    "model = KerasClassifier(build_fn=create_model, epochs=5, batch_size=24, verbose=0)\n",
    "\n",
    "# define the grid search parameters\n",
    "# just using one here for illustration, but add activation_function=activations\n",
    "# or dropout_rate=dropout_rates to grid search on other parameters\n",
    "param_grid = dict(optimiser=optimisers)\n",
    "grid = GridSearchCV(estimator = model, param_grid=param_grid, n_jobs=1)\n",
    "\n",
    "print(\"Running GridSearch...\")\n",
    "grid_result = grid.fit(train_x, train_y)\n",
    "print(\"GridSearch complete\")\n",
    "\n",
    "# summarize results\n",
    "print(\"Best: %f using %s\" % (grid_result.best_score_, grid_result.best_params_))\n",
    "means = grid_result.cv_results_['mean_test_score']\n",
    "stds = grid_result.cv_results_['std_test_score']\n",
    "params = grid_result.cv_results_['params']\n",
    "\n",
    "for mean, stdev, param in zip(means, stds, params):\n",
    "    print(\"%f (%f) with: %r\" % (mean, stdev, param))"
   ]
  },
  {
   "cell_type": "markdown",
   "metadata": {},
   "source": [
    "## Generating Predictions\n",
    "\n",
    "Once we've trained a model, we can use the following process to pass an audio file into our model and generate predictions, which will be the activation value (between 0 and 1) at the output layer for each of the 10 possible classes. Collectively, all the activations will sum to 1, meaning we can use argmax to show what the network's best guess is, as a well as providing a measure of its confidence.\n",
    "\n",
    "> 모델을 훈련하고 나면 다음 프로세스를 사용하여 오디오 파일을 모델에 전달하고 10 개의 가능한 클래스 각각에 대해 출력 레이어에서 활성화 값 (0과 1 사이)이 될 예측을 생성 할 수 있습니다. 총체적으로 모든 활성화는 1로 합쳐질 것입니다. 즉 argmax를 사용하여 네트워크의 가장 좋은 추측을 보여줄 수 있습니다. 이는 자신감의 척도를 제공함은 물론입니다.\n",
    "\n",
    "The following fragment considers 10 different audio samples, one for each class, showing the model's best guess (highest activation value), as well as the second best guess, which can provide useful insights in those cases where the model misidentifies the sample. After all, as you can see from the results, the predictions are not perfect.\n",
    "\n",
    "> 다음 단편은 모델의 가장 적합한 추측 값 (가장 높은 활성화 값)과 두 번째로 가장 좋은 추측을 보여주는 각기 다른 10 개의 오디오 샘플을 고려하여 모델이 샘플을 잘못 식별하는 경우 유용한 통찰을 제공합니다. 결국 결과에서 알 수 있듯이 예측은 완벽하지 않습니다."
   ]
  },
  {
   "cell_type": "code",
   "execution_count": 12,
   "metadata": {
    "collapsed": true
   },
   "outputs": [],
   "source": [
    "import librosa\n",
    "\n",
    "sound_file_paths = [\"aircon.wav\", \"carhorn.wav\", \"play.wav\", \"dogbark.wav\", \"drill.wav\",\n",
    "                    \"engine.wav\",\"gunshots.wav\",\"jackhammer.wav\",\"siren.wav\",\"music.wav\"]\n",
    "sound_names = [\"air conditioner\",\"car horn\",\"children playing\",\"dog bark\",\"drilling\",\"engine idling\",\n",
    "               \"gun shot\",\"jackhammer\",\"siren\",\"street music\"]\n",
    "parent_dir = 'samples/test/'"
   ]
  },
  {
   "cell_type": "code",
   "execution_count": 13,
   "metadata": {
    "collapsed": true
   },
   "outputs": [],
   "source": [
    "# just extract the features, \n",
    "def extract_features_only(filename):\n",
    "    features = np.empty((0,193))\n",
    "    X, sample_rate = librosa.load(filename)\n",
    "    stft = np.abs(librosa.stft(X))\n",
    "    mfccs = np.mean(librosa.feature.mfcc(y=X, sr=sample_rate, n_mfcc=40).T,axis=0)\n",
    "    chroma = np.mean(librosa.feature.chroma_stft(S=stft, sr=sample_rate).T,axis=0)\n",
    "    mel = np.mean(librosa.feature.melspectrogram(X, sr=sample_rate).T,axis=0)\n",
    "    contrast = np.mean(librosa.feature.spectral_contrast(S=stft, sr=sample_rate).T,axis=0)\n",
    "    tonnetz = np.mean(librosa.feature.tonnetz(y=librosa.effects.harmonic(X), sr=sample_rate).T,axis=0)\n",
    "    ext_features = np.hstack([mfccs,chroma,mel,contrast,tonnetz])\n",
    "    features = np.vstack([features,ext_features])\n",
    "    return features"
   ]
  },
  {
   "cell_type": "code",
   "execution_count": 15,
   "metadata": {},
   "outputs": [
    {
     "name": "stdout",
     "output_type": "stream",
     "text": [
      "Train on 240 samples, validate on 30 samples\n",
      "Epoch 1/30\n",
      "240/240 [==============================] - 1s 5ms/step - loss: 10.5198 - acc: 0.1125 - val_loss: 8.7537 - val_acc: 0.2000\n",
      "Epoch 2/30\n",
      "240/240 [==============================] - 0s 233us/step - loss: 9.2282 - acc: 0.1375 - val_loss: 5.1305 - val_acc: 0.4000\n",
      "Epoch 3/30\n",
      "240/240 [==============================] - 0s 238us/step - loss: 8.9298 - acc: 0.1208 - val_loss: 4.4742 - val_acc: 0.2000\n",
      "Epoch 4/30\n",
      "240/240 [==============================] - 0s 240us/step - loss: 7.0236 - acc: 0.1708 - val_loss: 3.8860 - val_acc: 0.2000\n",
      "Epoch 5/30\n",
      "240/240 [==============================] - 0s 250us/step - loss: 5.5235 - acc: 0.2167 - val_loss: 3.6212 - val_acc: 0.2667\n",
      "Epoch 6/30\n",
      "240/240 [==============================] - 0s 231us/step - loss: 4.3446 - acc: 0.1875 - val_loss: 3.1548 - val_acc: 0.1667\n",
      "Epoch 7/30\n",
      "240/240 [==============================] - 0s 235us/step - loss: 3.6759 - acc: 0.2125 - val_loss: 2.8293 - val_acc: 0.3000\n",
      "Epoch 8/30\n",
      "240/240 [==============================] - 0s 227us/step - loss: 2.8817 - acc: 0.2583 - val_loss: 2.7440 - val_acc: 0.3667\n",
      "Epoch 9/30\n",
      "240/240 [==============================] - 0s 246us/step - loss: 2.9366 - acc: 0.2292 - val_loss: 2.2605 - val_acc: 0.3333\n",
      "Epoch 10/30\n",
      "240/240 [==============================] - 0s 260us/step - loss: 2.7590 - acc: 0.3083 - val_loss: 2.4092 - val_acc: 0.3667\n",
      "Epoch 11/30\n",
      "240/240 [==============================] - 0s 231us/step - loss: 2.6478 - acc: 0.2792 - val_loss: 2.5310 - val_acc: 0.2333\n",
      "Epoch 12/30\n",
      "240/240 [==============================] - 0s 240us/step - loss: 2.5285 - acc: 0.2458 - val_loss: 2.3663 - val_acc: 0.3000\n",
      "Epoch 13/30\n",
      "240/240 [==============================] - 0s 223us/step - loss: 2.2094 - acc: 0.2750 - val_loss: 1.8001 - val_acc: 0.3667\n",
      "Epoch 14/30\n",
      "240/240 [==============================] - 0s 242us/step - loss: 2.1829 - acc: 0.3125 - val_loss: 1.7217 - val_acc: 0.4000\n",
      "Epoch 15/30\n",
      "240/240 [==============================] - 0s 231us/step - loss: 2.1017 - acc: 0.3500 - val_loss: 1.7009 - val_acc: 0.4333\n",
      "Epoch 16/30\n",
      "240/240 [==============================] - 0s 250us/step - loss: 2.1336 - acc: 0.3167 - val_loss: 1.7246 - val_acc: 0.4000\n",
      "Epoch 17/30\n",
      "240/240 [==============================] - 0s 258us/step - loss: 1.9055 - acc: 0.3500 - val_loss: 1.7565 - val_acc: 0.3333\n",
      "Epoch 18/30\n",
      "240/240 [==============================] - 0s 238us/step - loss: 2.1470 - acc: 0.3333 - val_loss: 1.7307 - val_acc: 0.2667\n",
      "Epoch 19/30\n",
      "240/240 [==============================] - 0s 231us/step - loss: 1.7885 - acc: 0.4042 - val_loss: 1.7204 - val_acc: 0.4000\n",
      "Epoch 20/30\n",
      "240/240 [==============================] - 0s 225us/step - loss: 1.9912 - acc: 0.3583 - val_loss: 1.7246 - val_acc: 0.3667\n",
      "Epoch 21/30\n",
      "240/240 [==============================] - 0s 227us/step - loss: 1.9143 - acc: 0.3708 - val_loss: 1.6793 - val_acc: 0.4000\n",
      "Epoch 22/30\n",
      "240/240 [==============================] - 0s 225us/step - loss: 1.7757 - acc: 0.3875 - val_loss: 1.6735 - val_acc: 0.4000\n",
      "Epoch 23/30\n",
      "240/240 [==============================] - 0s 233us/step - loss: 1.7364 - acc: 0.4083 - val_loss: 1.6127 - val_acc: 0.4667\n",
      "Epoch 24/30\n",
      "240/240 [==============================] - 0s 225us/step - loss: 1.8541 - acc: 0.4083 - val_loss: 1.6018 - val_acc: 0.4000\n",
      "Epoch 25/30\n",
      "240/240 [==============================] - 0s 233us/step - loss: 1.8236 - acc: 0.4500 - val_loss: 1.6585 - val_acc: 0.4000\n",
      "Epoch 26/30\n",
      "240/240 [==============================] - 0s 227us/step - loss: 1.6520 - acc: 0.4542 - val_loss: 1.6400 - val_acc: 0.5000\n",
      "Epoch 27/30\n",
      "240/240 [==============================] - 0s 235us/step - loss: 1.6650 - acc: 0.4042 - val_loss: 1.5747 - val_acc: 0.4667\n",
      "Epoch 28/30\n",
      "240/240 [==============================] - 0s 231us/step - loss: 1.7023 - acc: 0.4333 - val_loss: 1.5539 - val_acc: 0.4000\n",
      "Epoch 29/30\n",
      "240/240 [==============================] - 0s 235us/step - loss: 1.6290 - acc: 0.4375 - val_loss: 1.4909 - val_acc: 0.4667\n",
      "Epoch 30/30\n",
      "240/240 [==============================] - 0s 233us/step - loss: 1.6203 - acc: 0.4625 - val_loss: 1.5194 - val_acc: 0.5000\n",
      "\n",
      "-----  air conditioner -----\n",
      "Top guess:  jackhammer  ( 0.238 )\n",
      "2nd guess:  air conditioner  ( 0.23 )\n",
      "\n",
      "-----  car horn -----\n",
      "Top guess:  car horn  ( 0.779 )\n",
      "2nd guess:  drilling  ( 0.079 )\n",
      "\n",
      "-----  children playing -----\n",
      "Top guess:  jackhammer  ( 0.218 )\n",
      "2nd guess:  air conditioner  ( 0.169 )\n",
      "\n",
      "-----  dog bark -----\n",
      "Top guess:  dog bark  ( 0.987 )\n",
      "2nd guess:  street music  ( 0.005 )\n",
      "\n",
      "-----  drilling -----\n",
      "Top guess:  children playing  ( 0.234 )\n",
      "2nd guess:  drilling  ( 0.229 )\n",
      "\n",
      "-----  engine idling -----\n",
      "Top guess:  siren  ( 0.245 )\n",
      "2nd guess:  children playing  ( 0.221 )\n",
      "\n",
      "-----  gun shot -----\n",
      "Top guess:  dog bark  ( 0.228 )\n",
      "2nd guess:  children playing  ( 0.135 )\n",
      "\n",
      "-----  jackhammer -----\n",
      "Top guess:  jackhammer  ( 0.256 )\n",
      "2nd guess:  air conditioner  ( 0.129 )\n",
      "\n",
      "-----  siren -----\n",
      "Top guess:  drilling  ( 0.222 )\n",
      "2nd guess:  engine idling  ( 0.133 )\n",
      "\n",
      "-----  street music -----\n",
      "Top guess:  street music  ( 0.176 )\n",
      "2nd guess:  car horn  ( 0.167 )\n"
     ]
    }
   ],
   "source": [
    "model = create_model()\n",
    "history = model.fit(train_x, train_y, validation_data=(valid_x, valid_y), callbacks=[earlystop], epochs=30, batch_size=24)            \n",
    "\n",
    "# create predictions for each of the sound classes\n",
    "for s in range(len(sound_names)):\n",
    "\n",
    "    print(\"\\n----- \", sound_names[s], \"-----\")\n",
    "    # load audio file and extract features\n",
    "    predict_file = parent_dir + sound_file_paths[s]\n",
    "    predict_x = extract_features_only(predict_file)\n",
    "    \n",
    "    # generate prediction, passing in just a single row of features\n",
    "    predictions = model.predict(predict_x)\n",
    "    \n",
    "    #for i in range(len(predictions[0])):\n",
    "    #    print sound_names[i], \"=\", round(predictions[0,i] * 100, 1)\n",
    "    \n",
    "    # get the indices of the top 2 predictions, invert into descending order\n",
    "    ind = np.argpartition(predictions[0], -2)[-2:]\n",
    "    ind[np.argsort(predictions[0][ind])]\n",
    "    ind = ind[::-1]\n",
    "    \n",
    "    print(\"Top guess: \", sound_names[ind[0]], \" (\",round(predictions[0,ind[0]],3),\")\")\n",
    "    print(\"2nd guess: \", sound_names[ind[1]], \" (\",round(predictions[0,ind[1]],3),\")\")"
   ]
  },
  {
   "cell_type": "markdown",
   "metadata": {},
   "source": [
    "## Evaluating Convergence\n",
    "\n",
    "There is also valuable information about learning performance in the history object. This can, for instance, reveal the speed of convergence over epochs, initially a slope, which may ultimately plateau out. Whether the mode may be over-learning the training data (inflection for validation line).\n",
    "\n",
    "> 또한 히스토리 오브젝트에서 학습 성능에 대한 중요한 정보가 있습니다. 예를 들어, 이것은 초기에 수렴하는 속도를 나타낼 수 있으며, 처음에는 경사가 되어 결국 궁극적으로 고원 상태가 될 수 있습니다. 모드가 교육 데이터를 과도하게 학습하는지 여부 (유효성 검사 행에 대한 굴절)\n",
    "\n",
    "From the plot of accuracy indicates whether the model could be trained further (if the accuracy trend is still rising for the final epochs). It will also indicate if the model has over-learned the training dataset, it should show comparable performance on both train and test datasets.\n",
    "\n",
    "> 정확도 플롯에서 모델이 더 훈련 될 수 있는지 여부를 나타냅니다 (정확도 추세가 최종 신기원에 대해 여전히 상승하는 경우). 모델이 훈련 데이터 세트를 과도하게 학습했는지 여부는 열차 및 테스트 데이터 세트 모두에서 비교 가능한 성능을 나타내야합니다.\n",
    "\n",
    "If the model is overfitting the accuracy graph will show excellent performance on the training data, and poor performance on the test data.\n",
    "\n",
    "> 모델이 초과 적용되면 정확도 그래프는 교육 데이터에서 우수한 성능을 나타내며 테스트 데이터에서 성능이 떨어집니다.\n",
    "\n",
    "Ideally, in the loss graph, we should see comparable performance in both the training and validation datasets. Should these parallel plots start to diverge, it might be a indication we should stop training earlier. For a more detailed explanation, see http://machinelearningmastery.com/display-deep-learning-model-training-history-in-keras/\n",
    "\n",
    "> 이상적으로 손실 그래프에서 우리는 교육 및 검증 데이터 세트 모두에서 비교 가능한 성능을 보여야 합니다. 이 평행선이 갈라지기 시작하면 일찍 훈련을 중단해야한다는 표시 일 수 있습니다. 자세한 설명은 http://machinelearningmastery.com/display-deep-learning-model-training-history-in-keras/ 를 참조하십시오."
   ]
  },
  {
   "cell_type": "code",
   "execution_count": 16,
   "metadata": {},
   "outputs": [
    {
     "name": "stdout",
     "output_type": "stream",
     "text": [
      "History keys dict_keys(['val_loss', 'val_acc', 'loss', 'acc'])\n"
     ]
    },
    {
     "data": {
      "image/png": "[encoded data removed]",
      "text/plain": [
       "<matplotlib.figure.Figure at 0x16ee86579b0>"
      ]
     },
     "metadata": {},
     "output_type": "display_data"
    }
   ],
   "source": [
    "fig = plt.figure(figsize=(16,8))\n",
    "\n",
    "print(\"History keys\", (history.history.keys()))\n",
    "# summarise history for training and validation set accuracy\n",
    "plt.subplot(1,2,1)\n",
    "plt.plot(history.history['acc'])\n",
    "plt.plot(history.history['val_acc'])\n",
    "plt.title('Model Accuracy')\n",
    "plt.ylabel('accuracy')\n",
    "plt.xlabel('epoch')\n",
    "plt.legend(['train', 'validation'], loc='upper left')\n",
    "\n",
    "# summarise history for training and validation set loss\n",
    "plt.subplot(1,2,2)\n",
    "plt.plot(history.history['loss'])\n",
    "plt.plot(history.history['val_loss'])\n",
    "plt.title('Model Loss')\n",
    "plt.ylabel('loss')\n",
    "plt.xlabel('epoch')\n",
    "plt.legend(['train', 'validation'], loc='upper left')\n",
    "plt.show()"
   ]
  },
  {
   "cell_type": "code",
   "execution_count": null,
   "metadata": {
    "collapsed": true
   },
   "outputs": [],
   "source": []
  },
  {
   "cell_type": "code",
   "execution_count": null,
   "metadata": {
    "collapsed": true
   },
   "outputs": [],
   "source": []
  },
  {
   "cell_type": "code",
   "execution_count": null,
   "metadata": {
    "collapsed": true
   },
   "outputs": [],
   "source": []
  },
  {
   "cell_type": "code",
   "execution_count": null,
   "metadata": {
    "collapsed": true
   },
   "outputs": [],
   "source": []
  },
  {
   "cell_type": "code",
   "execution_count": null,
   "metadata": {
    "collapsed": true
   },
   "outputs": [],
   "source": []
  },
  {
   "cell_type": "code",
   "execution_count": null,
   "metadata": {
    "collapsed": true
   },
   "outputs": [],
   "source": []
  },
  {
   "cell_type": "code",
   "execution_count": null,
   "metadata": {
    "collapsed": true
   },
   "outputs": [],
   "source": []
  },
  {
   "cell_type": "code",
   "execution_count": null,
   "metadata": {
    "collapsed": true
   },
   "outputs": [],
   "source": []
  },
  {
   "cell_type": "code",
   "execution_count": null,
   "metadata": {
    "collapsed": true
   },
   "outputs": [],
   "source": []
  },
  {
   "cell_type": "code",
   "execution_count": null,
   "metadata": {
    "collapsed": true
   },
   "outputs": [],
   "source": []
  }
 ],
 "metadata": {
  "kernelspec": {
   "display_name": "Python 3",
   "language": "python",
   "name": "python3"
  },
  "language_info": {
   "codemirror_mode": {
    "name": "ipython",
    "version": 3
   },
   "file_extension": ".py",
   "mimetype": "text/x-python",
   "name": "python",
   "nbconvert_exporter": "python",
   "pygments_lexer": "ipython3",
   "version": "3.6.1"
  },
  "toc": {
   "nav_menu": {
    "height": "84px",
    "width": "311px"
   },
   "number_sections": false,
   "sideBar": false,
   "skip_h1_title": false,
   "title_cell": "Table of Contents",
   "title_sidebar": "Contents",
   "toc_cell": false,
   "toc_position": {
    "height": "232px",
    "left": "858px",
    "top": "106.5px",
    "width": "165px"
   },
   "toc_section_display": true,
   "toc_window_display": true
  }
 },
 "nbformat": 4,
 "nbformat_minor": 2
}
