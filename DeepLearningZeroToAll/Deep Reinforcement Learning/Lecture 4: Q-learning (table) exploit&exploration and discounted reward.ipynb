{
 "cells": [
  {
   "cell_type": "markdown",
   "metadata": {},
   "source": [
    "# Lecture 4: Q-learning (table) exploit&exploration and discounted reward\n",
    "\n",
    "## 링크\n",
    "- http://home.deib.polimi.it/restelli/MyWebSite/pdf/rl5.pdf"
   ]
  },
  {
   "cell_type": "markdown",
   "metadata": {},
   "source": [
    "## Exploit(weekday) VS Exploration(weekend)\n",
    "## Exploit VS EXploration: E-greedy\n",
    "```python\n",
    "e = 0.1\n",
    "if rand < e:\n",
    "    ...\n",
    "```\n",
    "\n",
    "## Exploit VS EXploration: decaying E-greedy\n",
    "```python\n",
    "for i in range(1000):\n",
    "    e = 0.1 / (i+1)\n",
    "    if random(1) < e:\n",
    "        ...\n",
    "```\n",
    "\n",
    "## Exploit VS EXploration: add random noise\n",
    "```python\n",
    "for i range(1000):\n",
    "    a = argmax(Q(s,a)+random_values/(i+1))\n",
    "```"
   ]
  },
  {
   "cell_type": "markdown",
   "metadata": {},
   "source": [
    "## Learning Q(s,a) with discounted reward\n",
    "$$\n",
    "\\hat{Q}(s,a) \\leftarrow r + \\gamma \\underset{a'}{max}\\hat{Q}(s', a')\n",
    "$$"
   ]
  },
  {
   "cell_type": "markdown",
   "metadata": {},
   "source": [
    "# Lab 4: Q-learning (table) exploit&exploration and discounted reward\n",
    "\n",
    "- https://www.youtube.com/watch?v=VYOq-He90bE&feature=youtu.be"
   ]
  },
  {
   "cell_type": "markdown",
   "metadata": {},
   "source": [
    "## Exploit VS Exploration: decaying E-greedy\n",
    "\n",
    "```python\n",
    "for i range(num_episodes):\n",
    "    e = 1. / ((i/100)+1)\n",
    "    while not done:\n",
    "        if ...\n",
    "```\n",
    "\n"
   ]
  },
  {
   "cell_type": "code",
   "execution_count": null,
   "metadata": {},
   "outputs": [],
   "source": []
  }
 ],
 "metadata": {
  "kernelspec": {
   "display_name": "Python 3",
   "language": "python",
   "name": "python3"
  },
  "language_info": {
   "codemirror_mode": {
    "name": "ipython",
    "version": 3
   },
   "file_extension": ".py",
   "mimetype": "text/x-python",
   "name": "python",
   "nbconvert_exporter": "python",
   "pygments_lexer": "ipython3",
   "version": "3.6.1"
  }
 },
 "nbformat": 4,
 "nbformat_minor": 2
}
