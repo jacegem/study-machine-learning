{
 "cells": [
  {
   "cell_type": "markdown",
   "metadata": {},
   "source": [
    "# Deep RL Bootcamp Lecture 4B Policy Gradients Revisited\n",
    "\n",
    "- youtube: https://www.youtube.com/watch?v=tqrcjHuNdmQ&list=PLlMkM4tgfjnKsCWav-Z2F-MMFRx-2gMGG&index=19"
   ]
  },
  {
   "cell_type": "markdown",
   "metadata": {},
   "source": [
    "## Problem is easy if you want to be inefficient...\n",
    "1. Repeat Forever:\n",
    "  2. Sample 1.3M random numbers\n",
    "  3. Run the policy for a while\n",
    "  4. If the performance is best so far, save it\n",
    "5. Return the best policy"
   ]
  },
  {
   "cell_type": "code",
   "execution_count": null,
   "metadata": {},
   "outputs": [],
   "source": []
  }
 ],
 "metadata": {
  "kernelspec": {
   "display_name": "Python 3",
   "language": "python",
   "name": "python3"
  },
  "language_info": {
   "codemirror_mode": {
    "name": "ipython",
    "version": 3
   },
   "file_extension": ".py",
   "mimetype": "text/x-python",
   "name": "python",
   "nbconvert_exporter": "python",
   "pygments_lexer": "ipython3",
   "version": "3.6.1"
  }
 },
 "nbformat": 4,
 "nbformat_minor": 2
}
