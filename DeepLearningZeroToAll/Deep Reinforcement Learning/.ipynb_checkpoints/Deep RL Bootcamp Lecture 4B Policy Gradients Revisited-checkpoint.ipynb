{
 "cells": [
  {
   "cell_type": "markdown",
   "metadata": {},
   "source": [
    "# Deep RL Bootcamp Lecture 4B Policy Gradients Revisited\n",
    "\n",
    "- youtube: https://www.youtube.com/watch?v=tqrcjHuNdmQ&list=PLlMkM4tgfjnKsCWav-Z2F-MMFRx-2gMGG&index=19"
   ]
  },
  {
   "cell_type": "markdown",
   "metadata": {},
   "source": [
    "## Problem is easy if you want to be inefficient...\n",
    "1. Repeat Forever:\n",
    "  2. Sample 1.3M random numbers\n",
    "  3. Run the policy for a while\n",
    "  4. If the performance is best so far, save it\n",
    "5. Return the best policy"
   ]
  },
  {
   "cell_type": "markdown",
   "metadata": {},
   "source": [
    "## Supervised Learning\n",
    "maximize:\n",
    "$$\n",
    "\\sum_{i}\\log p(y_i\\mid x_i)\n",
    "$$\n",
    "\n",
    "For images x_i and their labels y_i.\n",
    "\n",
    "## Reinforcement Learning\n",
    "1) we have no labels so we sample:\n",
    "$$\n",
    "y_i \\sim p(\\cdot \\mid x_i)\n",
    "$$\n",
    "\n",
    "2) once we collect a batch of rollouts:\n",
    "maximize:\n",
    "$$\n",
    "\\sum_i A_i * \\log p(y_i \\mid x_i)\n",
    "$$\n",
    "\n",
    "We call this the advantage, it's a number, like +1.0 or -1.0 based on how this action eventually turned out."
   ]
  },
  {
   "cell_type": "code",
   "execution_count": null,
   "metadata": {},
   "outputs": [],
   "source": []
  },
  {
   "cell_type": "code",
   "execution_count": null,
   "metadata": {},
   "outputs": [],
   "source": []
  },
  {
   "cell_type": "code",
   "execution_count": null,
   "metadata": {},
   "outputs": [],
   "source": []
  },
  {
   "cell_type": "code",
   "execution_count": null,
   "metadata": {},
   "outputs": [],
   "source": []
  },
  {
   "cell_type": "code",
   "execution_count": null,
   "metadata": {},
   "outputs": [],
   "source": []
  },
  {
   "cell_type": "code",
   "execution_count": null,
   "metadata": {},
   "outputs": [],
   "source": []
  },
  {
   "cell_type": "code",
   "execution_count": null,
   "metadata": {},
   "outputs": [],
   "source": []
  },
  {
   "cell_type": "code",
   "execution_count": null,
   "metadata": {},
   "outputs": [],
   "source": []
  },
  {
   "cell_type": "code",
   "execution_count": null,
   "metadata": {},
   "outputs": [],
   "source": []
  }
 ],
 "metadata": {
  "kernelspec": {
   "display_name": "Python 3",
   "language": "python",
   "name": "python3"
  },
  "language_info": {
   "codemirror_mode": {
    "name": "ipython",
    "version": 3
   },
   "file_extension": ".py",
   "mimetype": "text/x-python",
   "name": "python",
   "nbconvert_exporter": "python",
   "pygments_lexer": "ipython3",
   "version": "3.6.1"
  }
 },
 "nbformat": 4,
 "nbformat_minor": 2
}
