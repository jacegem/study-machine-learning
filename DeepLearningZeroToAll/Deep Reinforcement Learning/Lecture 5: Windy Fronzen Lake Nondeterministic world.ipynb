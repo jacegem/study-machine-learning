{
 "cells": [
  {
   "cell_type": "markdown",
   "metadata": {},
   "source": [
    "# Lecture 05: Q-learning on Nondeterministic Worlds!\n",
    "\n",
    "Youtube: https://www.youtube.com/watch?v=6KSf-j4LL-c"
   ]
  },
  {
   "cell_type": "markdown",
   "metadata": {},
   "source": [
    "## Stochastic (non-deterministric) world\n",
    "- Solution?\n",
    "  - Listen to Q(s') (just a little bit)\n",
    "  - Update Q(s) little bit (learning rate)\n",
    "- Like our life mentors\n",
    "  - Don't just listen and follow one mentor\n",
    "  - Need t listen from many mentors\n",
    "  \n",
    "### Your Career Needs Many Mentors, Not Just One\n",
    "\n",
    "## Learning incrementally\n",
    "$$\n",
    "Q(s,a) \\leftarrow + \\gamma\\underset{a'}{max} Q(s',a')\n",
    "$$\n",
    "\n",
    "### Learning rate, $\\alpha$\n",
    "- $\\alpha = 0.1$\n",
    "$$\n",
    "Q(s,a) \\leftarrow (1-\\alpha)Q(s,a) + \\alpha[r + \\gamma\\underset{a'}{max} Q(s',a')\n",
    "\\\\\n",
    "Q(s,a) \\leftarrow Q(s,a) + \\alpha[r +  \\gamma\\underset{a'}{max} Q(s',a') - Q(s,a)]\n",
    "$$\n",
    "\n",
    "## Q-learning algorithm\n",
    "- For each s, a initialize talbe entry $\\hat{Q}(s,a)\\leftarrow 0$\n",
    "- Observe current state s\n",
    "- Do forever:\n",
    "    - Select an action a and execute it\n",
    "    - Receive immediate reward r\n",
    "    - Observe the new state s'\n",
    "    - Update the table entry for $\\hat{Q}(s,a)$ as follows:\n",
    "$$\n",
    "Q(s,a) \\leftarrow (1-\\alpha)Q(s,a) + \\alpha[r + \\gamma\\underset{a'}{max} Q(s',a')\n",
    "$$\n",
    "    - $s\\leftarrow s'$\n",
    "    \n",
    "## Convergence\n",
    "\n",
    "$\\hat{Q}$ denote learner's current approximation to Q.\n",
    "\n",
    "$$\n",
    "\\hat{Q} \n",
    "...\n",
    "$$"
   ]
  },
  {
   "cell_type": "markdown",
   "metadata": {},
   "source": [
    "# Lab 05-1: Q-learning on Nondeterministic Worlds!"
   ]
  },
  {
   "cell_type": "code",
   "execution_count": 1,
   "metadata": {},
   "outputs": [],
   "source": [
    "import readchar"
   ]
  },
  {
   "cell_type": "code",
   "execution_count": null,
   "metadata": {},
   "outputs": [],
   "source": []
  }
 ],
 "metadata": {
  "kernelspec": {
   "display_name": "Python 3",
   "language": "python",
   "name": "python3"
  },
  "language_info": {
   "codemirror_mode": {
    "name": "ipython",
    "version": 3
   },
   "file_extension": ".py",
   "mimetype": "text/x-python",
   "name": "python",
   "nbconvert_exporter": "python",
   "pygments_lexer": "ipython3",
   "version": "3.6.1"
  }
 },
 "nbformat": 4,
 "nbformat_minor": 2
}
