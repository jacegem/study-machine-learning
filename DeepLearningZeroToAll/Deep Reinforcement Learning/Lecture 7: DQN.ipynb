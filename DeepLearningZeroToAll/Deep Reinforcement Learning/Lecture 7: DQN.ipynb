{
 "cells": [
  {
   "cell_type": "markdown",
   "metadata": {},
   "source": [
    "# Lecture 7: DQN\n",
    "\n",
    "## 링크\n",
    "- https://www.youtube.com/watch?v=S1Y9eys2bdg&feature=youtu.be\n",
    "- DQN paper : www.nature.com/articles/nature14236\n",
    "- DQN source code: www.sites.google.com/a/deepmind.com/dqn/\n",
    "\n"
   ]
  },
  {
   "cell_type": "markdown",
   "metadata": {},
   "source": [
    "## Q-function Approximation: Q-Nets\n",
    "\n",
    "## Convergence\n",
    "\n",
    "$\\hat{Q}$ denote learner's current approximation to $Q$\n",
    "\n",
    "## Two big issues\n",
    "- But `diverges` using neural networks due to:\n",
    "  - Correlations between samples\n",
    "  - Non-stationary targets"
   ]
  },
  {
   "cell_type": "markdown",
   "metadata": {},
   "source": [
    "## DQN's three solutions\n",
    "\n",
    "1. Go deep\n",
    "2. Capture and replay\n",
    "  - Correlations between samples\n",
    "3. Separate networks: create a target network\n",
    "  - Non-stationary targets"
   ]
  },
  {
   "cell_type": "markdown",
   "metadata": {},
   "source": [
    "# Lab 7-1: DQN 1 (NIPS 2013)\n",
    "\n",
    "- youtube: https://www.youtube.com/watch?v=Fbf9YUyDFww&feature=youtu.be"
   ]
  },
  {
   "cell_type": "markdown",
   "metadata": {},
   "source": [
    "## Code review acknowledgement\n",
    "- Reference implementations\n",
    "  - https://github.com/awjuliani/DeepRL-Agents\n",
    "  - https://github.com/devsisters/DQN-tensorflow\n",
    "  - https://github.com/dennybritz/reinforcement-learning/blob/master/DQN/dqn.py"
   ]
  },
  {
   "cell_type": "code",
   "execution_count": 3,
   "metadata": {},
   "outputs": [
    {
     "name": "stdout",
     "output_type": "stream",
     "text": [
      "[0 1 2 3 4]\n",
      "[5 6 7 8 9]\n",
      "[[0 1 2 3 4]\n",
      " [5 6 7 8 9]]\n"
     ]
    }
   ],
   "source": [
    "## np.vstack\n",
    "import numpy as np\n",
    "a = np.arange(5)\n",
    "b = np.arange(5, 10)\n",
    "c = np.arange(10,15)\n",
    "print(a)\n",
    "print(b)\n",
    "x = np.vstack([a,b])\n",
    "print(x)"
   ]
  },
  {
   "cell_type": "markdown",
   "metadata": {},
   "source": [
    "# Lab 7-2: DQN 2 (Nature 2015)\n",
    "\n",
    "- Youtube: https://www.youtube.com/watch?v=ByB49iDMiZE\n",
    "- Simple block based car race?\n",
    "  - https://github.com/golbin/TensorFlow-Tutorials/tree/master/07%20-%20DQN\n",
    "- DQN implementations\n",
    "  - https://github.com/songrotek/DQN-Atari-Tensorflow\n",
    "  - https://github.com/dennybritz/reinforcement-learning/blob/master/DQN/dqn.py\n",
    "  - https://github.com/devsisters/DQN-tensorflow\n",
    "- Other games\n",
    "  - http:/www.ehrenbrav.com/2016/08/teaching-your-computer-to-play-super-mario-bros-a-fork-of-the-google-deepmind-atari-machine-learning-project/\n",
    "- RMA approach\n",
    "  - Run\n",
    "  - Modify\n",
    "  - Adapt (to your new game/problems)"
   ]
  },
  {
   "cell_type": "code",
   "execution_count": null,
   "metadata": {},
   "outputs": [],
   "source": []
  },
  {
   "cell_type": "code",
   "execution_count": null,
   "metadata": {},
   "outputs": [],
   "source": []
  },
  {
   "cell_type": "code",
   "execution_count": null,
   "metadata": {},
   "outputs": [],
   "source": []
  },
  {
   "cell_type": "code",
   "execution_count": null,
   "metadata": {},
   "outputs": [],
   "source": []
  },
  {
   "cell_type": "code",
   "execution_count": null,
   "metadata": {},
   "outputs": [],
   "source": []
  },
  {
   "cell_type": "code",
   "execution_count": null,
   "metadata": {},
   "outputs": [],
   "source": []
  },
  {
   "cell_type": "code",
   "execution_count": null,
   "metadata": {},
   "outputs": [],
   "source": []
  }
 ],
 "metadata": {
  "kernelspec": {
   "display_name": "Python 3",
   "language": "python",
   "name": "python3"
  },
  "language_info": {
   "codemirror_mode": {
    "name": "ipython",
    "version": 3
   },
   "file_extension": ".py",
   "mimetype": "text/x-python",
   "name": "python",
   "nbconvert_exporter": "python",
   "pygments_lexer": "ipython3",
   "version": "3.6.1"
  }
 },
 "nbformat": 4,
 "nbformat_minor": 2
}
