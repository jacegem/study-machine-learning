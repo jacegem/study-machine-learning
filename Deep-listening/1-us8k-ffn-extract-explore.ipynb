{
 "cells": [
  {
   "cell_type": "markdown",
   "metadata": {},
   "source": [
    "# 특징 추출\n",
    "\n",
    "원본: https://github.com/jaron/deep-listening/blob/master/1-us8k-ffn-extract-explore.ipynb\n"
   ]
  },
  {
   "cell_type": "markdown",
   "metadata": {},
   "source": [
    "## 패키지 설치\n",
    "```shell\n",
    "pip install librosa matplotlib numpy scipy\n",
    "```\n",
    "\n",
    "## ffmpeg 설치\n",
    "다운 받아서 path에 등록한다.\n",
    "\n",
    "path에 추가되어 있지 않으면 `All backends failed!` 에러가 발생합니다.\n",
    "\n",
    "## 데이터 다운로드\n",
    "\n",
    "2가지 데이터가 있으며, 이중에서 `UrbanSound8k`를 사용합니다.\n",
    "\n",
    "- UrbanSound8k.tar.gz (5.6GB)\n"
   ]
  },
  {
   "cell_type": "code",
   "execution_count": 1,
   "metadata": {
    "collapsed": true,
    "scrolled": true
   },
   "outputs": [],
   "source": [
    "import glob\n",
    "import os\n",
    "import librosa\n",
    "import librosa.display\n",
    "import numpy as np\n",
    "import matplotlib.pyplot as plt\n",
    "from matplotlib.pyplot import specgram\n",
    "\n",
    "%matplotlib inline\n",
    "plt.style.use('ggplot')"
   ]
  },
  {
   "cell_type": "markdown",
   "metadata": {
    "collapsed": true
   },
   "source": [
    "다음 코드를 실행하여 예제 오디오 파일을 읽어서 확인 할 수 있습니다. \n",
    "\n",
    "```python\n",
    "filename = librosa.util.example_audio_file()\n",
    "y, sr = librosa.load(filename)\n",
    "```\n",
    "\n",
    "또는 파일을 지정하여 데이터를 읽을 수 있습니다. \n",
    "\n",
    "```python\n",
    "file = \"sample/aircon.wav\"\n",
    "data, sr = librosa.load(file)\n",
    "data\n",
    "```"
   ]
  },
  {
   "cell_type": "code",
   "execution_count": 2,
   "metadata": {
    "collapsed": true
   },
   "outputs": [],
   "source": [
    "def load_sound_files(parent_dir, file_paths):\n",
    "    raw_sounds = []\n",
    "    for fp in file_paths:\n",
    "        X, sr = librosa.load(parent_dir + fp)\n",
    "        raw_sounds.append(X)\n",
    "    return raw_sounds    "
   ]
  },
  {
   "cell_type": "code",
   "execution_count": 3,
   "metadata": {
    "collapsed": true
   },
   "outputs": [],
   "source": [
    "sound_file_paths = [\n",
    "    'aircon.wav',\n",
    "    'carhorn.wav',    \n",
    "    'play.wav',\n",
    "    'dogbark.wav',\n",
    "    'drill.wav',\n",
    "    'engine.wav',\n",
    "    'gunshots.wav',\n",
    "    'jackhammer.wav',\n",
    "    'siren.wav',\n",
    "    'music.wav'\n",
    "]\n",
    "\n",
    "sound_names = [\n",
    "    'air conditioner',\n",
    "    'car horn',\n",
    "    'children playing',\n",
    "    'dog bark',\n",
    "    'drilling',\n",
    "    'engine idling',\n",
    "    'gun shot',\n",
    "    'jackhammer',\n",
    "    'siren',\n",
    "    'street music'\n",
    "]\n",
    "\n",
    "parent_dir = 'sample/'\n",
    "\n",
    "raw_sounds = load_sound_files(parent_dir, sound_file_paths)"
   ]
  },
  {
   "cell_type": "code",
   "execution_count": 4,
   "metadata": {
    "collapsed": true
   },
   "outputs": [],
   "source": [
    "def plot_waves(sound_names, raw_sounds):\n",
    "    i = 1\n",
    "    fig = plt.figure(figsize=(25,10), dpi= 900)\n",
    "    for n, f in zip(sound_names, raw_sounds):\n",
    "        plt.subplot(2,5,i)\n",
    "        librosa.display.waveplot(np.array(f), sr=22050)\n",
    "        plt.title(n.title())\n",
    "        i += 1\n",
    "    plt.suptitle('Figure 1: Waveplot', x=0.5, y=0.95, fontsize=18)\n",
    "    plt.show()\n",
    "    \n",
    "def plot_specgram(sound_names, raw_sounds):\n",
    "    i = 1\n",
    "    fig = plt.figure(figsize=(25,10), dpi=900)\n",
    "    for n, f in zip(sound_names, raw_sounds):\n",
    "        plt.subplot(2,5,i)\n",
    "        specgram(np.array(f), Fs=22050)\n",
    "        plt.title(n.title())\n",
    "        i += 1\n",
    "    plt.suptitle('Figure 2: Spectrogram', x=0.5, y=0.95, fontsize=18)\n",
    "    plt.show()\n",
    "    \n",
    "def plot_log_power_specgram(sound_names, raw_sounds):\n",
    "    i = 1\n",
    "    fig = plt.figure(figsize=(25,10), dpi=900)\n",
    "    for n, f in zip(sound_names, raw_sounds):\n",
    "        plt.subplot(2,5,i)\n",
    "#         D = librosa.logamplitude(np.abs(librosa.stft(f))**2, ref_power=np.max)\n",
    "        D = librosa.power_to_db(np.abs(librosa.stft(f))**2, ref=np.max)\n",
    "        librosa.display.specshow(D, x_axis='time', y_axis='log')\n",
    "        plt.title(n.title())\n",
    "        i += 1\n",
    "    plt.suptitle('Figure 3: Log Power spectrogram', x=0.5, y=0.95, fontsize=18)\n",
    "    plt.show()\n",
    "    \n",
    "# plot_waves(sound_names, raw_sounds)\n",
    "# plot_specgram(sound_names, raw_sounds)\n",
    "# plot_log_power_specgram(sound_names, raw_sounds)"
   ]
  },
  {
   "cell_type": "markdown",
   "metadata": {},
   "source": [
    "그래프 표출시에 아래와 같은 에러메시지가 나오면 config 파일을 수정합니다.\n",
    "\n",
    "```\n",
    "IOPub data rate exceeded.\n",
    "The notebook server will temporarily stop sending output\n",
    "to the client in order to avoid crashing it.\n",
    "To change this limit, set the config variable\n",
    "`--NotebookApp.iopub_data_rate_limit`.\n",
    "```\n",
    "\n",
    "config 파일 수정\n",
    "```python\n",
    "#c.NotebookApp.iopub_data_rate_limit = 1000000\n",
    "c.NotebookApp.iopub_data_rate_limit = 1.0e10\n",
    "```"
   ]
  },
  {
   "cell_type": "code",
   "execution_count": 5,
   "metadata": {
    "collapsed": true
   },
   "outputs": [],
   "source": [
    "def extract_feature(file_name):\n",
    "    X, sample_rate = librosa.load(file_name)\n",
    "#     print(\"Features: {}, sampled at {}hz\".format(len(X), sample_rate))\n",
    "    stft = np.abs(librosa.stft(X))\n",
    "    mfccs = np.mean(librosa.feature.mfcc(y=X, sr=sample_rate, n_mfcc=40).T, axis=0)\n",
    "    chroma = np.mean(librosa.feature.chroma_stft(S=stft, sr=sample_rate).T, axis=0)\n",
    "    mel = np.mean(librosa.feature.melspectrogram(X, sr=sample_rate).T, axis=0)\n",
    "    contrast = np.mean(librosa.feature.spectral_contrast(S=stft, sr=sample_rate).T, axis=0)\n",
    "    tonnetz = np.mean(librosa.feature.tonnetz(y=librosa.effects.harmonic(X), sr=sample_rate).T, axis=0)\n",
    "    return mfccs, chroma, mel, contrast, tonnetz"
   ]
  },
  {
   "cell_type": "code",
   "execution_count": 6,
   "metadata": {},
   "outputs": [
    {
     "name": "stdout",
     "output_type": "stream",
     "text": [
      "MFCCS =  40\n",
      "Chroma =  12\n",
      "Mel =  128\n",
      "Contrast =  7\n",
      "Tonnetz =  6\n",
      "IN: Initail Data Points = 88200 (88200,)\n",
      "OUT: Total features =  193\n"
     ]
    }
   ],
   "source": [
    "sample_filename = 'sample/siren.wav'\n",
    "mfccs, chroma, mel, contrast, tonnetz = extract_feature(sample_filename)\n",
    "all_features = np.hstack([mfccs, chroma, mel, contrast, tonnetz])\n",
    "print(\"MFCCS = \", len(mfccs))\n",
    "print(\"Chroma = \", len(chroma))\n",
    "print(\"Mel = \", len(mel))\n",
    "print(\"Contrast = \", len(contrast))\n",
    "print(\"Tonnetz = \", len(tonnetz))\n",
    "\n",
    "data_points, _ = librosa.load(sample_filename)\n",
    "print(\"IN: Initail Data Points =\", len(data_points), np.shape(data_points))\n",
    "print(\"OUT: Total features = \", len(all_features))\n",
    "\n",
    "# print(\"mfccs:\", mfccs)\n",
    "# print(\"chroma:\", chroma)\n",
    "# print(\"mel:\", mel)\n",
    "# print(\"tonnetz:\", tonnetz)"
   ]
  },
  {
   "cell_type": "markdown",
   "metadata": {},
   "source": [
    "Another exploration we can perform is checking the balance of the dataset. Is there a similar number of every class label or are there some classes that appear more much often, and some classes that are rare? This is useful to know, as we could inadvertently achieve good performance on just one class with many instances, and poor performance on all others, and still seem to be achieving accurate results. Using the F1 accuracy score is important if the data is imbalanced, as it scores true and false positives equally, regardless of their class.\n",
    "\n",
    "> 우리가 수행 할 수 있는 또 다른 탐구는 데이터 세트의 균형을 점검하는 것입니다. 비슷한 수의 모든 학급 레이블이 있습니까? 아니면 더 자주 나타나는 수업과 희귀한 클래스가 있습니까? 이는 많은 인스턴스가있는 한 클래스에서 우연히 좋은 성능을 얻을 수 있고 다른 모든 인스턴스에서는 성능이 좋지 않아 정확한 결과를 얻는 것처럼 보이기 때문에 유용합니다. F1 정확도 점수를 사용하는 것은 데이터에 불균형이있는 경우 중요하며, 클래스에 관계없이 참 및 거짓 긍정을 동등하게 채점합니다."
   ]
  },
  {
   "cell_type": "markdown",
   "metadata": {},
   "source": [
    "jupyter  에서 debugger 방법. 아래 코드를 브레이트 포인트 라인에 삽입한다.\n",
    "\n",
    "```python\n",
    "import pdb; pdb.set_trace()\n",
    "```"
   ]
  },
  {
   "cell_type": "code",
   "execution_count": 7,
   "metadata": {
    "scrolled": true
   },
   "outputs": [
    {
     "name": "stdout",
     "output_type": "stream",
     "text": [
      "Unique : ['0' '1' '2' '3' '4' '5' '6' '7' '8' '9']\n",
      "Counts : [1000  429 1000 1000 1000 1000  374 1000  929 1000]\n"
     ]
    },
    {
     "data": {
      "image/png": "[encoded data removed]",
      "text/plain": [
       "<matplotlib.figure.Figure at 0x1422cff4f98>"
      ]
     },
     "metadata": {},
     "output_type": "display_data"
    }
   ],
   "source": [
    "def get_labels(parent_dir, sub_dirs, file_ext=\"*.wav\"):\n",
    "    labels= np.empty(0)\n",
    "    \n",
    "    for label, sub_dir in enumerate(sub_dirs):\n",
    "        for fn in glob.glob(os.path.join(parent_dir, sub_dir, file_ext)):\n",
    "            try:\n",
    "                class_value = fn.split('fold')[1].split('-')[1]\n",
    "                labels = np.append(labels, class_value)\n",
    "            except:\n",
    "                print(\"Error processing \" + fn + \" - skipping\")\n",
    "    return labels\n",
    "\n",
    "# put the path to the downloaded UrbanSound8K files here\n",
    "raw_data_dir = 'download/UrbanSound8K/audio/'\n",
    "\n",
    "subsequent_fold = False\n",
    "for k in range(1, 11):\n",
    "    fold_name = 'fold' + str(k)\n",
    "    labels = get_labels(raw_data_dir, [fold_name])\n",
    "    \n",
    "    if subsequent_fold:\n",
    "        all_labels = np.concatenate((all_labels, labels))\n",
    "    else:\n",
    "        all_labels = labels\n",
    "        subsequent_fold = True\n",
    "        \n",
    "unique, counts = np.unique(all_labels, return_counts=True)\n",
    "\n",
    "print(\"Unique :\", unique)\n",
    "print(\"Counts :\", counts)\n",
    "\n",
    "plt.figure(figsize=(18,4))\n",
    "plt.bar(np.arange(len(unique)), counts, align=\"center\")\n",
    "plt.xticks(np.arange(len(unique)), sound_names)\n",
    "plt.show()"
   ]
  },
  {
   "cell_type": "markdown",
   "metadata": {},
   "source": [
    "The code in the cell below can be run (once) to convert the raw audio files into much smaller numpy arrays. As this process is quite time consuming, we'd prefer to just do it once, and then load the numpy data when we want to do some training.\n",
    "\n",
    "> 아래의 셀에있는 코드는 원시 오디오 파일을 훨씬 작은 numpy 배열로 변환하기 위해 (한 번) 실행될 수 있습니다. 이 프로세스는 꽤 시간이 오래 걸리기 때문에 한 번 수행 한 다음 몇 가지 교육을 수행하기 위해 numpy 데이터를 로드하는 것이 좋습니다."
   ]
  },
  {
   "cell_type": "code",
   "execution_count": 8,
   "metadata": {
    "collapsed": true
   },
   "outputs": [],
   "source": [
    "def parse_audio_files(parent_dir, sub_dirs, file_ext = '*.wav'):\n",
    "    features, labels = np.empty((0, 193)), np.empty(0)\n",
    "    for label, sub_dir in enumerate(sub_dirs):\n",
    "        for fn in glob.glob(os.path.join(parent_dir, sub_dir, file_ext)):\n",
    "            \n",
    "            try:\n",
    "                mfccs, chroma, mel, contrast, tonnetz = extract_feature(fn)\n",
    "                ext_features = np.hstack([mfccs, chroma, mel, contrast, tonnetz])\n",
    "                features = np.vstack([features, ext_features])\n",
    "                labels = np.append(labels, fn.split('fold')[1].split('-')[1])\n",
    "            except:\n",
    "                print(\"Error processing {} - skipping\".format(fn))\n",
    "    return np.array(features), np.array(labels, dtype=np.int)\n",
    "\n",
    "def one_hot_encode(labels):\n",
    "    n_labels = len(labels)\n",
    "    n_unique_labels = len(np.unique(labels))\n",
    "    one_hot_encode = np.zeros((n_labels, n_unique_labels))\n",
    "    one_hot_encode[np.arange(n_labels), labels] = 1\n",
    "    return one_hot_encode\n",
    "\n",
    "def assure_path_exists(path):\n",
    "    mydir = os.path.join(os.getcwd(), path)\n",
    "    if not os.path.exists(mydir):\n",
    "        os.makedirs(mydir)"
   ]
  },
  {
   "cell_type": "code",
   "execution_count": 9,
   "metadata": {
    "scrolled": true
   },
   "outputs": [
    {
     "name": "stdout",
     "output_type": "stream",
     "text": [
      "Saving fold1\n"
     ]
    },
    {
     "name": "stderr",
     "output_type": "stream",
     "text": [
      "E:\\4.SDK\\Miniconda3_64\\lib\\site-packages\\librosa\\core\\pitch.py:145: UserWarning: Trying to estimate tuning from empty frequency set.\n",
      "  warnings.warn('Trying to estimate tuning from empty frequency set.')\n"
     ]
    },
    {
     "name": "stdout",
     "output_type": "stream",
     "text": [
      "Features of fold1 = (873, 193)\n",
      "Labels of fold1 = (873, 10)\n",
      "Saved  data/us8k-np-ffn\\fold1_x.npy\n",
      "Saved  data/us8k-np-ffn\\fold1_y.npy\n",
      "Saving fold2\n",
      "Features of fold2 = (888, 193)\n",
      "Labels of fold2 = (888, 10)\n",
      "Saved  data/us8k-np-ffn\\fold2_x.npy\n",
      "Saved  data/us8k-np-ffn\\fold2_y.npy\n",
      "Saving fold3\n",
      "Features of fold3 = (925, 193)\n",
      "Labels of fold3 = (925, 10)\n",
      "Saved  data/us8k-np-ffn\\fold3_x.npy\n",
      "Saved  data/us8k-np-ffn\\fold3_y.npy\n",
      "Saving fold4\n",
      "Features of fold4 = (990, 193)\n",
      "Labels of fold4 = (990, 10)\n",
      "Saved  data/us8k-np-ffn\\fold4_x.npy\n",
      "Saved  data/us8k-np-ffn\\fold4_y.npy\n",
      "Saving fold5\n",
      "Features of fold5 = (936, 193)\n",
      "Labels of fold5 = (936, 10)\n",
      "Saved  data/us8k-np-ffn\\fold5_x.npy\n",
      "Saved  data/us8k-np-ffn\\fold5_y.npy\n",
      "Saving fold6\n",
      "Features of fold6 = (823, 193)\n",
      "Labels of fold6 = (823, 10)\n",
      "Saved  data/us8k-np-ffn\\fold6_x.npy\n",
      "Saved  data/us8k-np-ffn\\fold6_y.npy\n",
      "Saving fold7\n",
      "Features of fold7 = (838, 193)\n",
      "Labels of fold7 = (838, 10)\n",
      "Saved  data/us8k-np-ffn\\fold7_x.npy\n",
      "Saved  data/us8k-np-ffn\\fold7_y.npy\n",
      "Saving fold8\n",
      "Features of fold8 = (806, 193)\n",
      "Labels of fold8 = (806, 10)\n",
      "Saved  data/us8k-np-ffn\\fold8_x.npy\n",
      "Saved  data/us8k-np-ffn\\fold8_y.npy\n",
      "Saving fold9\n",
      "Features of fold9 = (816, 193)\n",
      "Labels of fold9 = (816, 10)\n",
      "Saved  data/us8k-np-ffn\\fold9_x.npy\n",
      "Saved  data/us8k-np-ffn\\fold9_y.npy\n",
      "Saving fold10\n",
      "Features of fold10 = (837, 193)\n",
      "Labels of fold10 = (837, 10)\n",
      "Saved  data/us8k-np-ffn\\fold10_x.npy\n",
      "Saved  data/us8k-np-ffn\\fold10_y.npy\n"
     ]
    }
   ],
   "source": [
    "def save_fold(data_dir, save_dir):\n",
    "    for k in range(1, 11):\n",
    "        fold_name = 'fold' + str(k)\n",
    "        print(\"Saving \" + fold_name)\n",
    "        features, labels = parse_audio_files(data_dir, [fold_name])\n",
    "        labels = one_hot_encode(labels)\n",
    "        \n",
    "        print(\"Features of {} = {}\".format(fold_name, features.shape))\n",
    "        print(\"Labels of {} = {}\".format(fold_name, labels.shape))\n",
    "        \n",
    "        feature_file = os.path.join(save_dir, fold_name + '_x.npy')\n",
    "        labels_file = os.path.join(save_dir, fold_name + '_y.npy')\n",
    "        np.save(feature_file, features)\n",
    "        print(\"Saved \", feature_file)\n",
    "        np.save(labels_file, labels)\n",
    "        print(\"Saved \", labels_file)\n",
    "        \n",
    "raw_data_dir = \"download/UrbanSound8K/audio/\"       \n",
    "save_dir = \"data/us8k-np-ffn\"\n",
    "assure_path_exists(save_dir)\n",
    "save_fold(raw_data_dir, save_dir)"
   ]
  },
  {
   "cell_type": "markdown",
   "metadata": {
    "collapsed": true
   },
   "source": [
    "Note: As explained in section 4.2 of https://serv.cusp.nyu.edu/projects/urbansounddataset/salamon_urbansound_acmmm14.pdf, the folds have been created by chopping up longer sound files into shorter (4 second) clips.\n",
    "\n",
    "Hence we can't draw samples randomly across folds, as some audio clips are repetitive (like sirens and air conditioning) and that would risk segments of the same audio clip occuring in both our training and test set.\n",
    "\n",
    "Now run notebook 2-us8k-ffn-train-evaluate, and you'll be able load the extracted features and train a model.\n",
    "\n",
    "> 참고 : https://serv.cusp.nyu.edu/projects/urbansounddataset/salamon_urbansound_acmmm14.pdf의 4.2 절에서 설명했듯이 더 긴 사운드 파일을 짧은 (4 초) 클립으로 잘라서 폴드가 만들어졌습니다. \n",
    "\n",
    "> 따라서 일부 오디오 클립은 사이렌 및 에어컨과 같은 반복적 인 오디오 클립과 우리의 교육 및 테스트 세트에서 발생하는 동일한 오디오 클립의 세그먼트를 위험에 빠뜨릴 수 있으므로 폴드에 무작위로 샘플을 그릴 수는 없습니다. \n",
    "\n",
    "> 이제 노트북 `2-us8k-ffn-train-evaluate`을 실행하면 추출한 기능을 로드하고 모델을 학습 할 수 있습니다.\n"
   ]
  },
  {
   "cell_type": "code",
   "execution_count": null,
   "metadata": {
    "collapsed": true
   },
   "outputs": [],
   "source": []
  },
  {
   "cell_type": "code",
   "execution_count": null,
   "metadata": {
    "collapsed": true
   },
   "outputs": [],
   "source": []
  }
 ],
 "metadata": {
  "kernelspec": {
   "display_name": "Python 3",
   "language": "python",
   "name": "python3"
  },
  "language_info": {
   "codemirror_mode": {
    "name": "ipython",
    "version": 3
   },
   "file_extension": ".py",
   "mimetype": "text/x-python",
   "name": "python",
   "nbconvert_exporter": "python",
   "pygments_lexer": "ipython3",
   "version": "3.6.1"
  }
 },
 "nbformat": 4,
 "nbformat_minor": 2
}
