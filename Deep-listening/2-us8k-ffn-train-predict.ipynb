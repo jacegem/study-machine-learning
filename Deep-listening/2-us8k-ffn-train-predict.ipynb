{
 "cells": [
  {
   "cell_type": "markdown",
   "metadata": {
    "slideshow": {
     "slide_type": "slide"
    }
   },
   "source": [
    "# 예측\n",
    "\n",
    "출처: https://github.com/jaron/deep-listening/blob/master/2-us8k-ffn-train-predict.ipynb\n",
    "\n",
    "\n",
    "Workbook 2 - Training a Feed-Forward Neural Network using UrbanSound8K audio data\n",
    "\n",
    "> 통합 문서 2 - UrbanSound8K 오디오 데이터를 사용하여 피드 포워드 신경망 훈련\n",
    "\n",
    "This loads the features we extracted using librosa (see workbook 1), and uses them to train a Feed-Forward Network, a simple deep neural net with a few hidden layers, and then predict the class of a set of previously unheard audio files. You will need librosa, keras and tensorflow installed to run this code, and the latest version of scikit-learn (currently 0.18.1).\n",
    "\n",
    "> 이렇게 하면 librosa (통합 문서 1 참조)를 사용하여 추출한 기능을 로드하고 숨겨진 레이어가 있는 간단한 신경망인 Feed-Forward 네트워크를 학습한 다음 이전에 들리지 않은 오디오 파일 세트의 클래스를 예측할 수 있습니다. 이 코드를 실행하기 위해 설치된 librosa, keras 및 tensorflow와 최신 scikit-learn 버전이 필요합니다.\n",
    "\n",
    "## 패키지 설치\n",
    "```shell\n",
    "pip install keras tensorflow sklearn h5py\n",
    "```\n"
   ]
  },
  {
   "cell_type": "code",
   "execution_count": 11,
   "metadata": {
    "collapsed": true,
    "slideshow": {
     "slide_type": "slide"
    }
   },
   "outputs": [],
   "source": [
    "import glob\n",
    "import os\n",
    "import numpy as np\n",
    "import matplotlib.pyplot as plt\n",
    "%matplotlib inline\n",
    "plt.style.use('ggplot')"
   ]
  },
  {
   "cell_type": "markdown",
   "metadata": {
    "slideshow": {
     "slide_type": "slide"
    }
   },
   "source": [
    "This code below loads previously computed numpy features for each of the 10 folds, we'll use the first 8 for training, and keep one back for validation and one for testing.\n",
    "\n",
    "> 이 코드는 이전에 계산된 10개의 폴드에 대해서 numpy 피쳐를 로드합니다. \n",
    "> 처음 8개는 트레이닝에 사용하며 1개는 유효성 확인을 위해서 마지막 1개는 테스트를 위해서 유지합니다. \n"
   ]
  },
  {
   "cell_type": "code",
   "execution_count": 12,
   "metadata": {
    "slideshow": {
     "slide_type": "subslide"
    }
   },
   "outputs": [
    {
     "name": "stdout",
     "output_type": "stream",
     "text": [
      "Adding fold1\n",
      "New Features:  (873, 193)\n",
      "Adding fold2\n",
      "New Features:  (888, 193)\n",
      "Adding fold3\n",
      "New Features:  (925, 193)\n",
      "Adding fold4\n",
      "New Features:  (990, 193)\n",
      "Adding fold5\n",
      "New Features:  (936, 193)\n",
      "Adding fold6\n",
      "New Features:  (823, 193)\n",
      "Adding fold7\n",
      "New Features:  (838, 193)\n",
      "Adding fold8\n",
      "New Features:  (806, 193)\n"
     ]
    }
   ],
   "source": [
    "data_dir = 'data/us8k-np-ffn'\n",
    "\n",
    "def add_folds():\n",
    "    subsequent_fold = False\n",
    "    for k in range(1, 9):\n",
    "        fold_name = 'fold' + str(k)\n",
    "        print('Adding ' + fold_name)\n",
    "        feature_file = os.path.join(data_dir, fold_name + '_x.npy')\n",
    "        labels_file = os.path.join(data_dir, fold_name + '_y.npy')\n",
    "        loaded_features = np.load(feature_file)\n",
    "        loaded_labels = np.load(labels_file)\n",
    "        print(\"New Features: \", loaded_features.shape)\n",
    "        \n",
    "        if subsequent_fold:\n",
    "            features = np.concatenate((features, loaded_features))\n",
    "            labels = np.concatenate((labels, loaded_labels))\n",
    "        else:\n",
    "            features = loaded_features\n",
    "            labels = loaded_labels\n",
    "            subsequent_fold = True\n",
    "        \n",
    "    return features, labels    \n",
    "    \n",
    "train_x, train_y = add_folds()"
   ]
  },
  {
   "cell_type": "code",
   "execution_count": 13,
   "metadata": {},
   "outputs": [
    {
     "name": "stdout",
     "output_type": "stream",
     "text": [
      "Training Set Features: (7079, 193) Labels: (7079, 10)\n",
      "Validation Set Features: (816, 193) Labels: (816, 10)\n",
      "Test Set Features: (837, 193) Labels: (837, 10)\n"
     ]
    }
   ],
   "source": [
    "valid_fold_name = 'fold9'\n",
    "feature_file = os.path.join(data_dir, valid_fold_name + '_x.npy')\n",
    "labels_file = os.path.join(data_dir, valid_fold_name + '_y.npy')\n",
    "valid_x = np.load(feature_file)\n",
    "valid_y = np.load(labels_file)\n",
    "\n",
    "# and a fold for testing\n",
    "test_fold_name = 'fold10'\n",
    "feature_file = os.path.join(data_dir, test_fold_name + '_x.npy')\n",
    "labels_file = os.path.join(data_dir, test_fold_name + '_y.npy')\n",
    "test_x = np.load(feature_file)\n",
    "test_y = np.load(labels_file)\n",
    "\n",
    "print(\"Training Set Features: {} Labels: {}\".format(str(train_x.shape), str(train_y.shape)))\n",
    "print(\"Validation Set Features: {} Labels: {}\".format(str(valid_x.shape), str(valid_y.shape)))\n",
    "print(\"Test Set Features: {} Labels: {}\".format(str(test_x.shape), str(test_y.shape)))"
   ]
  },
  {
   "cell_type": "code",
   "execution_count": 14,
   "metadata": {},
   "outputs": [
    {
     "name": "stderr",
     "output_type": "stream",
     "text": [
      "E:\\4.SDK\\Miniconda3_64\\lib\\site-packages\\h5py\\__init__.py:36: FutureWarning: Conversion of the second argument of issubdtype from `float` to `np.floating` is deprecated. In future, it will be treated as `np.float64 == np.dtype(float).type`.\n",
      "  from ._conv import register_converters as _register_converters\n",
      "Using TensorFlow backend.\n"
     ]
    }
   ],
   "source": [
    "import tensorflow as tf\n",
    "from sklearn.metrics import precision_recall_fscore_support, roc_auc_score\n",
    "from keras.models import Sequential\n",
    "from keras.layers import Dense, Dropout\n",
    "from keras.optimizers import Adam\n",
    "from keras.callbacks import EarlyStopping"
   ]
  },
  {
   "cell_type": "code",
   "execution_count": 15,
   "metadata": {},
   "outputs": [
    {
     "name": "stdout",
     "output_type": "stream",
     "text": [
      "Features: 193 Classes: 10\n"
     ]
    }
   ],
   "source": [
    "def assure_path_exists(path):\n",
    "    mydir = os.path.join(os.getcwd(), path)\n",
    "    if not os.path.exists(mydir):\n",
    "        os.makedirs(mydir)\n",
    "\n",
    "# neural network dimensions\n",
    "n_dim = train_x.shape[1]\n",
    "n_classes = train_y.shape[1]\n",
    "n_hidden_units_1 = n_dim\n",
    "n_hidden_units_2 = 400 # approx n_dim + 2\n",
    "n_hidden_units_3 = 200 # half of layer 2\n",
    "\n",
    "checkpoint_dir = \"model\"\n",
    "assure_path_exists(checkpoint_dir)\n",
    "\n",
    "print(\"Features: {} Classes: {}\".format(n_dim, n_classes))"
   ]
  },
  {
   "cell_type": "code",
   "execution_count": 16,
   "metadata": {},
   "outputs": [
    {
     "data": {
      "text/plain": [
       "(7079, 193)"
      ]
     },
     "execution_count": 16,
     "metadata": {},
     "output_type": "execute_result"
    }
   ],
   "source": [
    "train_x.shape"
   ]
  },
  {
   "cell_type": "markdown",
   "metadata": {},
   "source": [
    "### 변경사항\n",
    "\n",
    "init_type → `kernel_initializer`\n",
    "\n",
    "> model.add(Dense(n_hidden_units_2, kernel_initializer=init_type, activation=activation_function))\n",
    "\n",
    "nb_epoch → `epochs`\n",
    "\n",
    "> history = model.fit(train_x, train_y, validation_data=(valid_x, valid_y), callbacks=[earlystop], epochs=30, batch_size=24)            "
   ]
  },
  {
   "cell_type": "code",
   "execution_count": 26,
   "metadata": {},
   "outputs": [
    {
     "name": "stdout",
     "output_type": "stream",
     "text": [
      "Train on 7079 samples, validate on 816 samples\n",
      "Epoch 1/30\n",
      "7079/7079 [==============================] - 3s 449us/step - loss: 3.6058 - acc: 0.2846 - val_loss: 1.9590 - val_acc: 0.3162\n",
      "Epoch 2/30\n",
      "7079/7079 [==============================] - 2s 262us/step - loss: 1.9374 - acc: 0.4153 - val_loss: 1.9507 - val_acc: 0.4056\n",
      "Epoch 3/30\n",
      "7079/7079 [==============================] - 2s 260us/step - loss: 1.7341 - acc: 0.4592 - val_loss: 1.4919 - val_acc: 0.4743\n",
      "Epoch 4/30\n",
      "7079/7079 [==============================] - 2s 259us/step - loss: 1.5685 - acc: 0.5094 - val_loss: 1.4534 - val_acc: 0.5123\n",
      "Epoch 5/30\n",
      "7079/7079 [==============================] - 2s 261us/step - loss: 1.4271 - acc: 0.5464 - val_loss: 1.4269 - val_acc: 0.5429\n",
      "Epoch 6/30\n",
      "7079/7079 [==============================] - 2s 275us/step - loss: 1.3163 - acc: 0.5848 - val_loss: 1.4552 - val_acc: 0.5196\n",
      "Epoch 7/30\n",
      "7079/7079 [==============================] - 2s 261us/step - loss: 1.2530 - acc: 0.6011 - val_loss: 1.4389 - val_acc: 0.5576\n",
      "Epoch 8/30\n",
      "7079/7079 [==============================] - 2s 262us/step - loss: 1.1987 - acc: 0.6203 - val_loss: 1.3445 - val_acc: 0.5576\n",
      "Epoch 9/30\n",
      "7079/7079 [==============================] - 2s 267us/step - loss: 1.1370 - acc: 0.6371 - val_loss: 1.4748 - val_acc: 0.5429\n",
      "Epoch 10/30\n",
      "7079/7079 [==============================] - 2s 275us/step - loss: 1.0520 - acc: 0.6613 - val_loss: 1.4198 - val_acc: 0.5686\n",
      "Epoch 11/30\n",
      "7079/7079 [==============================] - 2s 270us/step - loss: 1.0028 - acc: 0.6817 - val_loss: 1.3968 - val_acc: 0.5723\n",
      "Epoch 12/30\n",
      "7079/7079 [==============================] - 2s 268us/step - loss: 0.9584 - acc: 0.6881 - val_loss: 1.4275 - val_acc: 0.5993\n",
      "Epoch 13/30\n",
      "7079/7079 [==============================] - 2s 270us/step - loss: 0.9170 - acc: 0.7062 - val_loss: 1.4480 - val_acc: 0.5858\n",
      "Epoch 14/30\n",
      "7079/7079 [==============================] - 2s 279us/step - loss: 0.8896 - acc: 0.7209 - val_loss: 1.4780 - val_acc: 0.5907\n",
      "Epoch 15/30\n",
      "7079/7079 [==============================] - 2s 272us/step - loss: 0.8223 - acc: 0.7391 - val_loss: 1.5300 - val_acc: 0.6005\n",
      "Epoch 16/30\n",
      "7079/7079 [==============================] - 2s 274us/step - loss: 0.7987 - acc: 0.7508 - val_loss: 1.5226 - val_acc: 0.6115\n",
      "Epoch 17/30\n",
      "7079/7079 [==============================] - 2s 275us/step - loss: 0.7591 - acc: 0.7590 - val_loss: 1.4917 - val_acc: 0.6103\n",
      "Epoch 18/30\n",
      "7079/7079 [==============================] - 2s 289us/step - loss: 0.7365 - acc: 0.7661 - val_loss: 1.5881 - val_acc: 0.5919\n",
      "Epoch 00018: early stopping\n"
     ]
    }
   ],
   "source": [
    "tf.set_random_seed(0)\n",
    "np.random.seed(0)\n",
    "\n",
    "def create_model(activation_function=\"relu\", init_type=\"normal\", optimiser=\"Adamax\", dropout_rate=0.5):\n",
    "    model = Sequential()\n",
    "    # layer 1\n",
    "    model.add(Dense(n_hidden_units_1, input_dim=n_dim))\n",
    "    # layer 2\n",
    "    model.add(Dense(n_hidden_units_2, kernel_initializer=init_type, activation=activation_function))\n",
    "    model.add(Dropout(dropout_rate))\n",
    "    # layer 3\n",
    "    model.add(Dense(n_hidden_units_3, kernel_initializer=init_type, activation=activation_function))\n",
    "    model.add(Dropout(dropout_rate))\n",
    "    # output layer\n",
    "    model.add(Dense(n_classes, kernel_initializer=init_type, activation='softmax'))\n",
    "    \n",
    "    model.compile(loss='categorical_crossentropy', optimizer=optimiser, metrics=['accuracy'])\n",
    "    return model\n",
    "\n",
    "# a stopping function to stop trainning before we excessively overfit to the training set\n",
    "earlystop = EarlyStopping(monitor = 'val_loss', patience=10, verbose =1, mode='auto')\n",
    "\n",
    "model = create_model()\n",
    "\n",
    "history = model.fit(train_x, train_y, validation_data=(valid_x, valid_y), callbacks=[earlystop], epochs=30, batch_size=24)            "
   ]
  },
  {
   "cell_type": "markdown",
   "metadata": {},
   "source": [
    "## Measuring Accuracy"
   ]
  },
  {
   "cell_type": "code",
   "execution_count": 18,
   "metadata": {},
   "outputs": [
    {
     "name": "stdout",
     "output_type": "stream",
     "text": [
      "ROC:  0.89\n",
      "837/837 [==============================] - 0s 56us/step\n",
      "Accuracy =  0.57\n",
      "F-Score:  0.57\n"
     ]
    }
   ],
   "source": [
    "from sklearn import metrics\n",
    "from keras.utils import np_utils\n",
    "\n",
    "# obtain the prediction probabilities\n",
    "y_prob = model.predict_proba(test_x, verbose=0)\n",
    "# y_pred = np_utils.probas_to_classes(y_prob)\n",
    "y_pred = model.predict_classes(test_x)\n",
    "y_true = np.argmax(test_y, 1)\n",
    "\n",
    "roc = metrics.roc_auc_score(test_y, y_prob)\n",
    "print(\"ROC: \", round(roc, 2))\n",
    "\n",
    "# evaluate the model\n",
    "score, accuracy = model.evaluate(test_x, test_y, batch_size=32)\n",
    "print(\"Accuracy = {: .2f}\".format(accuracy))\n",
    "\n",
    "p, r, f, s = precision_recall_fscore_support(y_true, y_pred, average='micro')\n",
    "print('F-Score: ', round(f, 2))"
   ]
  },
  {
   "cell_type": "markdown",
   "metadata": {},
   "source": [
    "I used GridSearch (see section below) to investigate the best combinations of parameters, such as optimisers, dropout rates, hidden layers and activation functions. With 2 hidden layers the best accuracy I observed was an F-score of 0.59 (ROC = 0.89)\n",
    "\n",
    "With 3 hidden layers the best accuracy seen was an F-score of 0.645 (ROC=0.92), using the Adamax optimiser and a dropout rate of 0.5. There did not seem to be any benefit in using 4 hidden layers, the accuracy seemed equivalent to that achieved with just 2 hidden layers. (As the gradient computation is stochastic, you might get slightly different values when you run this code).\n",
    "\n",
    "ROC curves are typically used in binary classification, so to apply this measure to multi-class classification, it's first necessary to convert the predictions into boolean values, each representing positive or negative predictions for each possible class. This enables us to draw one ROC curve per class, or draw a composite ROC curve by using micro-averaging."
   ]
  },
  {
   "cell_type": "code",
   "execution_count": 19,
   "metadata": {},
   "outputs": [
    {
     "data": {
      "image/png": "[encoded data removed]",
      "text/plain": [
       "<matplotlib.figure.Figure at 0x1f1347698d0>"
      ]
     },
     "metadata": {},
     "output_type": "display_data"
    }
   ],
   "source": [
    "from sklearn.metrics import roc_curve, auc\n",
    "fpr = dict()\n",
    "tpr = dict()\n",
    "roc_auc = dict()\n",
    "\n",
    "for i in range(n_classes):\n",
    "    fpr[i], tpr[i], _ = roc_curve(test_y[:, i], y_prob[:, i])\n",
    "    roc_auc[i] = auc(fpr[i], tpr[i])\n",
    "    \n",
    "# Compute micro-average ROC curve and ROC area\n",
    "fpr['micro'], tpr['micro'], _ = roc_curve(test_y.ravel(), y_prob.ravel())\n",
    "roc_auc['micro'] = auc(fpr['micro'], tpr['micro'])\n",
    "\n",
    "plt.figure()\n",
    "lw = 2\n",
    "plt.plot(fpr[2], tpr[2], color='darkorange', lw=lw, label='ROC curve (area= %0.2f)' % roc_auc[2])\n",
    "plt.plot([0,1], [0,1], color='navy', lw=lw, linestyle='--')\n",
    "plt.xlim([0.0, 1.0])\n",
    "plt.ylim([0.0, 1.05])\n",
    "plt.xlabel('False Positive Rate')\n",
    "plt.ylabel('True Positive Rate')\n",
    "plt.title('Receiver operating characteristic')\n",
    "plt.legend(loc='lower right')\n",
    "plt.show()"
   ]
  },
  {
   "cell_type": "code",
   "execution_count": 20,
   "metadata": {},
   "outputs": [
    {
     "name": "stdout",
     "output_type": "stream",
     "text": [
      "Confusion_matrix\n",
      "             aircon   horn  child    dog  drill engine    gun hammer  siren  music\n",
      "      aircon     42      0      8      0      0      6      0     27      4     13\n",
      "        horn      1     24      1      0      1      0      0      1      1      4\n",
      "       child      0      1     79      9      0      1      0      0      5      5\n",
      "         dog      3      1     14     60      2      2      0      1      6     11\n",
      "       drill      0      2     13      0     21      0      0     29     10     25\n",
      "      engine      2      0     26      1      0     50      0      6      1      7\n",
      "         gun      0      0      4     16      0      0     10      0      2      0\n",
      "      hammer      0      0      7      0     13      0      0     75      0      1\n",
      "       siren      3      4     26      0      0      0      0      0     49      1\n",
      "       music      1      2     17      0      5      4      0      3      0     68\n"
     ]
    }
   ],
   "source": [
    "from sklearn.metrics import confusion_matrix\n",
    "\n",
    "labels = ['aircon', 'horn', 'child', 'dog', 'drill', 'engine', 'gun', 'hammer', 'siren', 'music']\n",
    "print(\"Confusion_matrix\")\n",
    "cm = confusion_matrix(y_true, y_pred)\n",
    "\n",
    "def print_cm(cm, labels, hide_zeroes=False, hide_diagonal=False, hide_threshold=None):\n",
    "    \"\"\"pretty print for confusion matrixes\"\"\"\n",
    "    columnwidth = max([len(x) for x in labels] + [7]) # 5 is value length\n",
    "    empty_cell = \" \" * columnwidth\n",
    "    # Print header\n",
    "    print(\"    \", empty_cell, end=\"\")\n",
    "    for label in labels:\n",
    "        print(\"%{0}s\".format(columnwidth) % label, end=\"\")\n",
    "    print()\n",
    "    # Print rows\n",
    "    for i, label in enumerate(labels):\n",
    "        print(\"     %{0}s\".format(columnwidth) % label, end=\"\")\n",
    "        for j in range(len(labels)):\n",
    "            cell = \"%{0}s\".format(columnwidth) % cm[i, j]\n",
    "            if hide_zeroes:\n",
    "                cell = cell if float(cm[i, j]) != 0 else empty_cell\n",
    "            if hide_diagonal:\n",
    "                cell = cell if i != j else empty_cell\n",
    "            if hide_threshold:\n",
    "                cell = cell if cm[i, j] > hide_threshold else empty_cell\n",
    "            print(cell, end=\"\")\n",
    "        print()\n",
    "\n",
    "print_cm(cm, labels)"
   ]
  },
  {
   "cell_type": "markdown",
   "metadata": {},
   "source": [
    "### Refinement and Optimisation\n",
    "\n",
    "The performance of a deep neural network is highly dependent on many configurable hyper-parameters, values that govern how the model actually works, and which are not changed during the course of learning. Some of these parameters will have a greater influence than others. The classic machine learning solution to this challenge is GridSearch, to successively train separate instances of a model with distinct values of key parameters, and then compare the resulting accuracy scores to identify which combination of parameters has produced the best results.\n",
    "\n",
    "Scikit-Learn provides GridSearch functionality that can be adapted for use with a neural network implemented using Keras, as described here: http://machinelearningmastery.com/grid-search-hyperparameters-deep-learning-models-python-keras/.\n",
    "\n",
    "Because the training process is computationally intensive, and must be repeated for each combination of hyper-parameter values, optimisation can be a slow, time-consuming process. The code below shows how the 3-layer network was trained with different stochastic gradient optimisers (https://keras.io/optimizers/), and reveals which algorithms work best for this particular problem domain.\n",
    "\n"
   ]
  },
  {
   "cell_type": "code",
   "execution_count": 21,
   "metadata": {},
   "outputs": [
    {
     "name": "stdout",
     "output_type": "stream",
     "text": [
      "Running GridSearch...\n",
      "GridSearch complete\n",
      "Best: 0.471959 using {'optimiser': 'Adamax'}\n",
      "0.394123 (0.016210) with: {'optimiser': 'SGD'}\n",
      "0.456562 (0.029617) with: {'optimiser': 'RMSprop'}\n",
      "0.469558 (0.028627) with: {'optimiser': 'Adagrad'}\n",
      "0.452606 (0.024678) with: {'optimiser': 'Adadelta'}\n",
      "0.468569 (0.029817) with: {'optimiser': 'Adam'}\n",
      "0.471959 (0.048842) with: {'optimiser': 'Adamax'}\n",
      "0.447380 (0.024561) with: {'optimiser': 'Nadam'}\n"
     ]
    }
   ],
   "source": [
    "from keras.wrappers.scikit_learn import KerasClassifier\n",
    "from sklearn.model_selection import GridSearchCV\n",
    "from keras.constraints import maxnorm\n",
    "\n",
    "activations = ['relu', 'tanh', 'linear']\n",
    "batch_sizes = [10, 20, 30, 40, 50, 60]\n",
    "epochs = [10, 20, 30]\n",
    "dropout_rates = [0.0, 0.1, 0.2, 0.3, 0.4, 0.5, 0.6, 0.7, 0.8, 0.9]\n",
    "\n",
    "optimisers = ['SGD', 'RMSprop', 'Adagrad', 'Adadelta', 'Adam', 'Adamax', 'Nadam']\n",
    "\n",
    "model = KerasClassifier(build_fn=create_model, epochs=5, batch_size=24, verbose=0)\n",
    "\n",
    "# define the grid search parameters\n",
    "# just using one here for illustration, but add activation_function=activations\n",
    "# or dropout_rate=dropout_rates to grid search on other parameters\n",
    "param_grid = dict(optimiser=optimisers)\n",
    "grid = GridSearchCV(estimator = model, param_grid=param_grid, n_jobs=1)\n",
    "\n",
    "print(\"Running GridSearch...\")\n",
    "grid_result = grid.fit(train_x, train_y)\n",
    "print(\"GridSearch complete\")\n",
    "\n",
    "# summarize results\n",
    "print(\"Best: %f using %s\" % (grid_result.best_score_, grid_result.best_params_))\n",
    "means = grid_result.cv_results_['mean_test_score']\n",
    "stds = grid_result.cv_results_['std_test_score']\n",
    "params = grid_result.cv_results_['params']\n",
    "\n",
    "for mean, stdev, param in zip(means, stds, params):\n",
    "    print(\"%f (%f) with: %r\" % (mean, stdev, param))"
   ]
  },
  {
   "cell_type": "markdown",
   "metadata": {},
   "source": [
    "## Generating Predictions\n",
    "\n",
    "Once we've trained a model, we can use the following process to pass an audio file into our model and generate predictions, which will be the activation value (between 0 and 1) at the output layer for each of the 10 possible classes. Collectively, all the activations will sum to 1, meaning we can use argmax to show what the network's best guess is, as a well as providing a measure of its confidence.\n",
    "\n",
    "> 모델을 훈련하고 나면 다음 프로세스를 사용하여 오디오 파일을 모델에 전달하고 10 개의 가능한 클래스 각각에 대해 출력 레이어에서 활성화 값 (0과 1 사이)이 될 예측을 생성 할 수 있습니다. 총체적으로 모든 활성화는 1로 합쳐질 것입니다. 즉 argmax를 사용하여 네트워크의 가장 좋은 추측을 보여줄 수 있습니다. 이는 자신감의 척도를 제공함은 물론입니다.\n",
    "\n",
    "The following fragment considers 10 different audio samples, one for each class, showing the model's best guess (highest activation value), as well as the second best guess, which can provide useful insights in those cases where the model misidentifies the sample. After all, as you can see from the results, the predictions are not perfect.\n",
    "\n",
    "> 다음 단편은 모델의 가장 적합한 추측 값 (가장 높은 활성화 값)과 두 번째로 가장 좋은 추측을 보여주는 각기 다른 10 개의 오디오 샘플을 고려하여 모델이 샘플을 잘못 식별하는 경우 유용한 통찰을 제공합니다. 결국 결과에서 알 수 있듯이 예측은 완벽하지 않습니다."
   ]
  },
  {
   "cell_type": "code",
   "execution_count": 22,
   "metadata": {
    "collapsed": true
   },
   "outputs": [],
   "source": [
    "import librosa\n",
    "\n",
    "sound_file_paths = [\"aircon.wav\", \"carhorn.wav\", \"play.wav\", \"dogbark.wav\", \"drill.wav\",\n",
    "                    \"engine.wav\",\"gunshots.wav\",\"jackhammer.wav\",\"siren.wav\",\"music.wav\"]\n",
    "sound_names = [\"air conditioner\",\"car horn\",\"children playing\",\"dog bark\",\"drilling\",\"engine idling\",\n",
    "               \"gun shot\",\"jackhammer\",\"siren\",\"street music\"]\n",
    "parent_dir = 'samples/'"
   ]
  },
  {
   "cell_type": "code",
   "execution_count": 23,
   "metadata": {
    "collapsed": true
   },
   "outputs": [],
   "source": [
    "# just extract the features, \n",
    "def extract_features_only(filename):\n",
    "    features = np.empty((0,193))\n",
    "    X, sample_rate = librosa.load(filename)\n",
    "    stft = np.abs(librosa.stft(X))\n",
    "    mfccs = np.mean(librosa.feature.mfcc(y=X, sr=sample_rate, n_mfcc=40).T,axis=0)\n",
    "    chroma = np.mean(librosa.feature.chroma_stft(S=stft, sr=sample_rate).T,axis=0)\n",
    "    mel = np.mean(librosa.feature.melspectrogram(X, sr=sample_rate).T,axis=0)\n",
    "    contrast = np.mean(librosa.feature.spectral_contrast(S=stft, sr=sample_rate).T,axis=0)\n",
    "    tonnetz = np.mean(librosa.feature.tonnetz(y=librosa.effects.harmonic(X), sr=sample_rate).T,axis=0)\n",
    "    ext_features = np.hstack([mfccs,chroma,mel,contrast,tonnetz])\n",
    "    features = np.vstack([features,ext_features])\n",
    "    return features"
   ]
  },
  {
   "cell_type": "code",
   "execution_count": 27,
   "metadata": {},
   "outputs": [
    {
     "name": "stdout",
     "output_type": "stream",
     "text": [
      "\n",
      "-----  air conditioner -----\n",
      "Top guess:  air conditioner  ( 0.747 )\n",
      "2nd guess:  street music  ( 0.134 )\n",
      "\n",
      "-----  car horn -----\n",
      "Top guess:  car horn  ( 0.961 )\n",
      "2nd guess:  jackhammer  ( 0.036 )\n",
      "\n",
      "-----  children playing -----\n",
      "Top guess:  children playing  ( 0.538 )\n",
      "2nd guess:  street music  ( 0.231 )\n",
      "\n",
      "-----  dog bark -----\n",
      "Top guess:  dog bark  ( 1.0 )\n",
      "2nd guess:  gun shot  ( 0.0 )\n",
      "\n",
      "-----  drilling -----\n",
      "Top guess:  children playing  ( 0.384 )\n",
      "2nd guess:  dog bark  ( 0.241 )\n",
      "\n",
      "-----  engine idling -----\n",
      "Top guess:  engine idling  ( 0.992 )\n",
      "2nd guess:  children playing  ( 0.004 )\n",
      "\n",
      "-----  gun shot -----\n",
      "Top guess:  dog bark  ( 0.413 )\n",
      "2nd guess:  gun shot  ( 0.213 )\n",
      "\n",
      "-----  jackhammer -----\n",
      "Top guess:  jackhammer  ( 0.526 )\n",
      "2nd guess:  drilling  ( 0.222 )\n",
      "\n",
      "-----  siren -----\n",
      "Top guess:  drilling  ( 0.473 )\n",
      "2nd guess:  engine idling  ( 0.224 )\n",
      "\n",
      "-----  street music -----\n",
      "Top guess:  street music  ( 0.996 )\n",
      "2nd guess:  car horn  ( 0.003 )\n"
     ]
    }
   ],
   "source": [
    "# create predictions for each of the sound classes\n",
    "for s in range(len(sound_names)):\n",
    "\n",
    "    print(\"\\n----- \", sound_names[s], \"-----\")\n",
    "    # load audio file and extract features\n",
    "    predict_file = parent_dir + sound_file_paths[s]\n",
    "    predict_x = extract_features_only(predict_file)\n",
    "    \n",
    "    # generate prediction, passing in just a single row of features\n",
    "    predictions = model.predict(predict_x)\n",
    "    \n",
    "    #for i in range(len(predictions[0])):\n",
    "    #    print sound_names[i], \"=\", round(predictions[0,i] * 100, 1)\n",
    "    \n",
    "    # get the indices of the top 2 predictions, invert into descending order\n",
    "    ind = np.argpartition(predictions[0], -2)[-2:]\n",
    "    ind[np.argsort(predictions[0][ind])]\n",
    "    ind = ind[::-1]\n",
    "    \n",
    "    print(\"Top guess: \", sound_names[ind[0]], \" (\",round(predictions[0,ind[0]],3),\")\")\n",
    "    print(\"2nd guess: \", sound_names[ind[1]], \" (\",round(predictions[0,ind[1]],3),\")\")"
   ]
  },
  {
   "cell_type": "markdown",
   "metadata": {},
   "source": [
    "## Evaluating Convergence\n",
    "\n",
    "There is also valuable information about learning performance in the history object. This can, for instance, reveal the speed of convergence over epochs, initially a slope, which may ultimately plateau out. Whether the mode may be over-learning the training data (inflection for validation line).\n",
    "\n",
    "> 또한 히스토리 오브젝트에서 학습 성능에 대한 중요한 정보가 있습니다. 예를 들어, 이것은 초기에 수렴하는 속도를 나타낼 수 있으며, 처음에는 경사가 되어 결국 궁극적으로 고원 상태가 될 수 있습니다. 모드가 교육 데이터를 과도하게 학습하는지 여부 (유효성 검사 행에 대한 굴절)\n",
    "\n",
    "From the plot of accuracy indicates whether the model could be trained further (if the accuracy trend is still rising for the final epochs). It will also indicate if the model has over-learned the training dataset, it should show comparable performance on both train and test datasets.\n",
    "\n",
    "> 정확도 플롯에서 모델이 더 훈련 될 수 있는지 여부를 나타냅니다 (정확도 추세가 최종 신기원에 대해 여전히 상승하는 경우). 모델이 훈련 데이터 세트를 과도하게 학습했는지 여부는 열차 및 테스트 데이터 세트 모두에서 비교 가능한 성능을 나타내야합니다.\n",
    "\n",
    "If the model is overfitting the accuracy graph will show excellent performance on the training data, and poor performance on the test data.\n",
    "\n",
    "> 모델이 초과 적용되면 정확도 그래프는 교육 데이터에서 우수한 성능을 나타내며 테스트 데이터에서 성능이 떨어집니다.\n",
    "\n",
    "Ideally, in the loss graph, we should see comparable performance in both the training and validation datasets. Should these parallel plots start to diverge, it might be a indication we should stop training earlier. For a more detailed explanation, see http://machinelearningmastery.com/display-deep-learning-model-training-history-in-keras/\n",
    "\n",
    "> 이상적으로 손실 그래프에서 우리는 교육 및 검증 데이터 세트 모두에서 비교 가능한 성능을 보여야 합니다. 이 평행선이 갈라지기 시작하면 일찍 훈련을 중단해야한다는 표시 일 수 있습니다. 자세한 설명은 http://machinelearningmastery.com/display-deep-learning-model-training-history-in-keras/ 를 참조하십시오."
   ]
  },
  {
   "cell_type": "code",
   "execution_count": 29,
   "metadata": {},
   "outputs": [
    {
     "name": "stdout",
     "output_type": "stream",
     "text": [
      "History keys dict_keys(['val_loss', 'val_acc', 'loss', 'acc'])\n"
     ]
    },
    {
     "data": {
      "image/png": "[encoded data removed]",
      "text/plain": [
       "<matplotlib.figure.Figure at 0x1f134af0f60>"
      ]
     },
     "metadata": {},
     "output_type": "display_data"
    }
   ],
   "source": [
    "fig = plt.figure(figsize=(16,8))\n",
    "\n",
    "print(\"History keys\", (history.history.keys()))\n",
    "# summarise history for training and validation set accuracy\n",
    "plt.subplot(1,2,1)\n",
    "plt.plot(history.history['acc'])\n",
    "plt.plot(history.history['val_acc'])\n",
    "plt.title('Model Accuracy')\n",
    "plt.ylabel('accuracy')\n",
    "plt.xlabel('epoch')\n",
    "plt.legend(['train', 'validation'], loc='upper left')\n",
    "\n",
    "# summarise history for training and validation set loss\n",
    "plt.subplot(1,2,2)\n",
    "plt.plot(history.history['loss'])\n",
    "plt.plot(history.history['val_loss'])\n",
    "plt.title('Model Loss')\n",
    "plt.ylabel('loss')\n",
    "plt.xlabel('epoch')\n",
    "plt.legend(['train', 'validation'], loc='upper left')\n",
    "plt.show()"
   ]
  },
  {
   "cell_type": "code",
   "execution_count": null,
   "metadata": {
    "collapsed": true
   },
   "outputs": [],
   "source": []
  },
  {
   "cell_type": "code",
   "execution_count": null,
   "metadata": {
    "collapsed": true
   },
   "outputs": [],
   "source": []
  },
  {
   "cell_type": "code",
   "execution_count": null,
   "metadata": {
    "collapsed": true
   },
   "outputs": [],
   "source": []
  },
  {
   "cell_type": "code",
   "execution_count": null,
   "metadata": {
    "collapsed": true
   },
   "outputs": [],
   "source": []
  },
  {
   "cell_type": "code",
   "execution_count": null,
   "metadata": {
    "collapsed": true
   },
   "outputs": [],
   "source": []
  },
  {
   "cell_type": "code",
   "execution_count": null,
   "metadata": {
    "collapsed": true
   },
   "outputs": [],
   "source": []
  },
  {
   "cell_type": "code",
   "execution_count": null,
   "metadata": {
    "collapsed": true
   },
   "outputs": [],
   "source": []
  },
  {
   "cell_type": "code",
   "execution_count": null,
   "metadata": {
    "collapsed": true
   },
   "outputs": [],
   "source": []
  },
  {
   "cell_type": "code",
   "execution_count": null,
   "metadata": {
    "collapsed": true
   },
   "outputs": [],
   "source": []
  },
  {
   "cell_type": "code",
   "execution_count": null,
   "metadata": {
    "collapsed": true
   },
   "outputs": [],
   "source": []
  }
 ],
 "metadata": {
  "kernelspec": {
   "display_name": "Python 3",
   "language": "python",
   "name": "python3"
  },
  "language_info": {
   "codemirror_mode": {
    "name": "ipython",
    "version": 3
   },
   "file_extension": ".py",
   "mimetype": "text/x-python",
   "name": "python",
   "nbconvert_exporter": "python",
   "pygments_lexer": "ipython3",
   "version": "3.6.1"
  },
  "toc": {
   "nav_menu": {
    "height": "84px",
    "width": "311px"
   },
   "number_sections": false,
   "sideBar": false,
   "skip_h1_title": false,
   "title_cell": "Table of Contents",
   "title_sidebar": "Contents",
   "toc_cell": false,
   "toc_position": {
    "height": "232px",
    "left": "858px",
    "top": "106.5px",
    "width": "165px"
   },
   "toc_section_display": true,
   "toc_window_display": true
  }
 },
 "nbformat": 4,
 "nbformat_minor": 2
}
